{
 "cells": [
  {
   "cell_type": "code",
   "execution_count": 1,
   "id": "5727dc0c",
   "metadata": {},
   "outputs": [],
   "source": [
    "import time\n",
    "import os\n",
    "import numpy as np\n",
    "import pandas as pd\n",
    "import pickle\n",
    "import h5py\n",
    "import re\n",
    "from mmsdk import mmdatasdk\n",
    "from mmsdk.mmdatasdk.computational_sequence.computational_sequence import computational_sequence\n",
    "from mmsdk.mmdatasdk.dataset.standard_datasets.CMU_MOSEI import cmu_mosei_std_folds\n",
    "\n",
    "import torch\n",
    "from torch.optim import Adam\n",
    "import torch.nn as nn\n",
    "from torch.nn.utils.rnn import pad_sequence, pack_padded_sequence, pad_packed_sequence\n",
    "from torch.utils.data import DataLoader, Dataset\n",
    "from tqdm import tqdm_notebook\n",
    "from collections import defaultdict\n",
    "\n",
    "\n",
    "from sklearn.linear_model import LinearRegression\n",
    "from sklearn.ensemble import RandomForestRegressor, StackingRegressor\n",
    "import xgboost"
   ]
  },
  {
   "cell_type": "code",
   "execution_count": 10,
   "id": "e28e0eec",
   "metadata": {},
   "outputs": [
    {
     "name": "stdout",
     "output_type": "stream",
     "text": [
      "<class 'mmsdk.mmdatasdk.dataset.dataset.mmdataset'>\n",
      "dict_keys(['CMU_MOSEI_TimestampedWordVectors', 'CMU_MOSEI_VisualFacet42', 'CMU_MOSEI_COVAREP', 'CMU_MOSEI_Labels'])\n"
     ]
    }
   ],
   "source": [
    "with open('data/aligned_mosei.pkl', 'rb') as f:\n",
    "    dataset = pickle.load(f)\n",
    "\n",
    "print(type(dataset))\n",
    "print(dataset.keys() if hasattr(dataset, 'keys') else dataset)"
   ]
  },
  {
   "cell_type": "code",
   "execution_count": 11,
   "id": "84872b25",
   "metadata": {},
   "outputs": [
    {
     "data": {
      "text/plain": [
       "23248"
      ]
     },
     "execution_count": 11,
     "metadata": {},
     "output_type": "execute_result"
    }
   ],
   "source": [
    "visual_field = 'CMU_MOSEI_VisualFacet42'\n",
    "acoustic_field = 'CMU_MOSEI_COVAREP'\n",
    "text_field = 'CMU_MOSEI_TimestampedWordVectors'\n",
    "label_field = 'CMU_MOSEI_Labels'\n",
    "\n",
    "features = [\n",
    "    text_field,\n",
    "    visual_field,\n",
    "    acoustic_field\n",
    "]\n",
    "\n",
    "len(dataset[text_field].keys())\n",
    "len(dataset[acoustic_field].keys())"
   ]
  },
  {
   "cell_type": "code",
   "execution_count": 12,
   "id": "f51b0b74",
   "metadata": {},
   "outputs": [
    {
     "data": {
      "text/plain": [
       "{'intervals': array([[23.199, 30.325]]),\n",
       " 'features': array([[1.       , 0.6666667, 0.       , 0.       , 0.       , 0.       ,\n",
       "         0.       ]], dtype=float32)}"
      ]
     },
     "execution_count": 12,
     "metadata": {},
     "output_type": "execute_result"
    }
   ],
   "source": [
    "dataset[label_field]['--qXJuDtHPw[0]']"
   ]
  },
  {
   "cell_type": "code",
   "execution_count": 13,
   "id": "30c5b7c1",
   "metadata": {},
   "outputs": [],
   "source": [
    "sentiment_labels = {}\n",
    "emotion_labels = {}\n",
    "\n",
    "for key in dataset[label_field].keys():\n",
    "    features = dataset[label_field][key]['features']\n",
    "    sentiment_labels[key] = dataset[label_field][key].copy()\n",
    "    emotion_labels[key] = dataset[label_field][key].copy()\n",
    "    sentiment_labels[key]['features'] = features[0][0]\n",
    "    sentiment_labels[key]['features'] = np.expand_dims(np.expand_dims(sentiment_labels[key]['features'], axis=0), axis=0)\n",
    "    emotion_labels[key]['features'] = features[0][1:]\n",
    "    emotion_labels[key]['features'] = np.expand_dims(emotion_labels[key]['features'], axis=0)"
   ]
  },
  {
   "cell_type": "code",
   "execution_count": 14,
   "id": "b4fe7111",
   "metadata": {},
   "outputs": [
    {
     "data": {
      "text/plain": [
       "{'intervals': array([[23.199, 30.325]]),\n",
       " 'features': array([[1.]], dtype=float32)}"
      ]
     },
     "execution_count": 14,
     "metadata": {},
     "output_type": "execute_result"
    }
   ],
   "source": [
    "sentiment_labels['--qXJuDtHPw[0]']"
   ]
  },
  {
   "cell_type": "code",
   "execution_count": 15,
   "id": "1f1a3eb6",
   "metadata": {},
   "outputs": [
    {
     "data": {
      "text/plain": [
       "{'intervals': array([[23.199, 30.325]]),\n",
       " 'features': array([[0.6666667, 0.       , 0.       , 0.       , 0.       , 0.       ]],\n",
       "       dtype=float32)}"
      ]
     },
     "execution_count": 15,
     "metadata": {},
     "output_type": "execute_result"
    }
   ],
   "source": [
    "emotion_labels['--qXJuDtHPw[0]']"
   ]
  },
  {
   "cell_type": "code",
   "execution_count": 16,
   "id": "524ac53e",
   "metadata": {},
   "outputs": [],
   "source": [
    "# Split the dataset.\n",
    "# obtain the train/valid/test splits - these splits are based on video IDs\n",
    "train_split = cmu_mosei_std_folds.standard_train_fold\n",
    "valid_split = cmu_mosei_std_folds.standard_valid_fold\n",
    "test_split = cmu_mosei_std_folds.standard_test_fold\n",
    "\n",
    "# inspect the splits: they only contain video IDs\n",
    "# print(test_split)"
   ]
  },
  {
   "cell_type": "code",
   "execution_count": 17,
   "id": "81508eb3",
   "metadata": {},
   "outputs": [
    {
     "name": "stderr",
     "output_type": "stream",
     "text": [
      "<>:10: SyntaxWarning: invalid escape sequence '\\['\n",
      "<>:10: SyntaxWarning: invalid escape sequence '\\['\n",
      "C:\\Users\\suxin\\AppData\\Local\\Temp\\ipykernel_20348\\719142960.py:10: SyntaxWarning: invalid escape sequence '\\['\n",
      "  pattern = re.compile('(.*)\\[.*\\]')\n"
     ]
    }
   ],
   "source": [
    "# a sentinel epsilon for safe division, without it we will replace illegal values with a constant\n",
    "EPS = 0\n",
    "\n",
    "# place holders for the final train/valid/test dataset\n",
    "train = []\n",
    "valid = []\n",
    "test = []\n",
    "\n",
    "# define a regular expression to extract the video ID out of the keys\n",
    "pattern = re.compile('(.*)\\[.*\\]')\n",
    "num_drop = 0 # a counter to count how many data points went into some processing issues\n",
    "\n",
    "valid_keys = set(dataset[label_field].keys()) & set(dataset[text_field].keys()) & set(dataset[visual_field].keys()) & set(dataset[acoustic_field].keys())"
   ]
  },
  {
   "cell_type": "code",
   "execution_count": 18,
   "id": "dbf79591",
   "metadata": {},
   "outputs": [
    {
     "name": "stderr",
     "output_type": "stream",
     "text": [
      "C:\\Users\\suxin\\AppData\\Local\\Temp\\ipykernel_20348\\2181468976.py:29: RuntimeWarning: invalid value encountered in divide\n",
      "  acoustic = np.nan_to_num((acoustic - acoustic.mean(0, keepdims=True)) / (EPS + np.std(acoustic, axis=0, keepdims=True)))\n",
      "C:\\Users\\suxin\\AppData\\Roaming\\Python\\Python313\\site-packages\\numpy\\_core\\_methods.py:194: RuntimeWarning: overflow encountered in multiply\n",
      "  x = um.multiply(x, x, out=x)\n",
      "C:\\Users\\suxin\\AppData\\Local\\Temp\\ipykernel_20348\\2181468976.py:28: RuntimeWarning: invalid value encountered in divide\n",
      "  visual = np.nan_to_num((visual - visual.mean(0, keepdims=True)) / (EPS + np.std(visual, axis=0, keepdims=True)))\n"
     ]
    },
    {
     "name": "stderr",
     "output_type": "stream",
     "text": [
      "C:\\Users\\suxin\\AppData\\Roaming\\Python\\Python313\\site-packages\\numpy\\_core\\_methods.py:135: RuntimeWarning: overflow encountered in reduce\n",
      "  ret = umr_sum(arr, axis, dtype, out, keepdims, where=where)\n",
      "C:\\Users\\suxin\\AppData\\Roaming\\Python\\Python313\\site-packages\\numpy\\_core\\_methods.py:171: RuntimeWarning: overflow encountered in reduce\n",
      "  arrmean = umr_sum(arr, axis, dtype, keepdims=True, where=where)\n"
     ]
    },
    {
     "name": "stdout",
     "output_type": "stream",
     "text": [
      "Encountered datapoint -ZgjBOA1Yhw with text shape (38, 300), visual shape (37, 35), acoustic shape (38, 74)\n",
      "Encountered datapoint 0hCOCt6fWas with text shape (18, 300), visual shape (17, 35), acoustic shape (18, 74)\n",
      "Encountered datapoint 1zXAYdPdzy8 with text shape (36, 300), visual shape (35, 35), acoustic shape (36, 74)\n",
      "Encountered datapoint 69824 with text shape (7, 300), visual shape (6, 35), acoustic shape (7, 74)\n",
      "Encountered datapoint 8f_lBxZgDb0 with text shape (55, 300), visual shape (54, 35), acoustic shape (55, 74)\n",
      "Encountered datapoint 92221 with text shape (8, 300), visual shape (7, 35), acoustic shape (8, 74)\n",
      "Encountered datapoint Iemw8vqt-54 with text shape (19, 300), visual shape (18, 35), acoustic shape (19, 74)\n",
      "Encountered datapoint JGEEA_JVriE with text shape (115, 300), visual shape (79, 35), acoustic shape (115, 74)\n",
      "Encountered datapoint JXYot3NDQn0 with text shape (43, 300), visual shape (42, 35), acoustic shape (43, 74)\n",
      "Encountered datapoint Q5uYByRyswI with text shape (76, 300), visual shape (75, 35), acoustic shape (76, 74)\n",
      "Encountered datapoint aa0J1AXSseY with text shape (32, 300), visual shape (23, 35), acoustic shape (32, 74)\n",
      "Encountered datapoint vM3YB7LmMq4 with text shape (13, 300), visual shape (12, 35), acoustic shape (13, 74)\n",
      "Total number of 12 datapoints have been dropped.\n"
     ]
    }
   ],
   "source": [
    "for segment in dataset[label_field].keys():\n",
    "\n",
    "    if segment not in valid_keys:\n",
    "        continue\n",
    "\n",
    "    # get the video ID and the features out of the aligned dataset\n",
    "    vid = re.search(pattern, segment).group(1)\n",
    "    label = sentiment_labels[segment]['features']\n",
    "    words = dataset[text_field][segment]['features']\n",
    "    visual = dataset[visual_field][segment]['features']\n",
    "    acoustic = dataset[acoustic_field][segment]['features']\n",
    "    emotions = emotion_labels[segment]['features']\n",
    "\n",
    "    # if the sequences are not same length after alignment, there must be some problem with some modalities\n",
    "    # we should drop it or inspect the data again\n",
    "    if not words.shape[0] == visual.shape[0] == acoustic.shape[0]:\n",
    "        print(f\"Encountered datapoint {vid} with text shape {words.shape}, visual shape {visual.shape}, acoustic shape {acoustic.shape}\")\n",
    "        num_drop += 1\n",
    "\n",
    "    # remove nan values\n",
    "    label = np.nan_to_num(label)\n",
    "    words = np.nan_to_num(words)\n",
    "    visual = np.nan_to_num(visual)\n",
    "    acoustic = np.nan_to_num(acoustic)\n",
    "    emotions = np.nan_to_num(emotions)\n",
    "\n",
    "    # z-normalization per instance and remove nan/infs\n",
    "    visual = np.nan_to_num((visual - visual.mean(0, keepdims=True)) / (EPS + np.std(visual, axis=0, keepdims=True)))\n",
    "    acoustic = np.nan_to_num((acoustic - acoustic.mean(0, keepdims=True)) / (EPS + np.std(acoustic, axis=0, keepdims=True)))\n",
    "\n",
    "    if vid in train_split:\n",
    "        train.append(((words, visual, acoustic), label, emotions, segment))\n",
    "    elif vid in valid_split:\n",
    "        valid.append(((words, visual, acoustic), label, emotions,segment))\n",
    "    elif vid in test_split:\n",
    "        test.append(((words, visual, acoustic), label, emotions,segment))\n",
    "    # else:\n",
    "    #     print(f\"Found video that doesn't belong to any splits: {vid}\")\n",
    "\n",
    "print(f\"Total number of {num_drop} datapoints have been dropped.\")"
   ]
  },
  {
   "cell_type": "code",
   "execution_count": 19,
   "id": "6d21d23d",
   "metadata": {},
   "outputs": [
    {
     "name": "stdout",
     "output_type": "stream",
     "text": [
      "16322\n",
      "1871\n",
      "4659\n",
      "(55, 300)\n",
      "(55, 35)\n",
      "(55, 74)\n",
      "(1, 1)\n",
      "(array([[ 0.       ,  0.       ,  0.       , ...,  0.       ,  0.       ,\n",
      "         0.       ],\n",
      "       [ 0.33578  ,  0.30902  ,  0.12098  , ...,  0.26556  , -0.15987  ,\n",
      "        -0.033962 ],\n",
      "       [-0.084961 ,  0.502    ,  0.0023823, ..., -0.21511  , -0.26304  ,\n",
      "        -0.0060173],\n",
      "       ...,\n",
      "       [-0.028387 ,  0.050244 , -0.076597 , ..., -0.16328  , -0.043587 ,\n",
      "         0.036996 ],\n",
      "       [-0.70567  ,  0.48464  , -0.26169  , ..., -0.1398   ,  0.42836  ,\n",
      "         0.017546 ],\n",
      "       [ 0.       ,  0.       ,  0.       , ...,  0.       ,  0.       ,\n",
      "         0.       ]], shape=(55, 300)), array([[-5.0590074e-01, -5.4795736e-01,  4.1057914e-01, ...,\n",
      "        -3.3446416e-01, -8.5609153e-02,  4.7459543e-01],\n",
      "       [ 9.0985417e-02, -1.4090555e+00,  3.1989036e+00, ...,\n",
      "        -6.6909468e-01, -2.3426114e-01, -2.6542366e-01],\n",
      "       [-6.6859627e-01,  3.3285603e-01,  1.8611795e-01, ...,\n",
      "         2.0832238e-01,  1.0378593e+00, -9.4906610e-01],\n",
      "       ...,\n",
      "       [ 6.8940383e-01, -2.5633031e-01,  5.7995471e-04, ...,\n",
      "        -2.5011745e-01,  1.9564974e-01,  2.0972273e-01],\n",
      "       [ 2.5723413e-01,  1.0957594e-01,  1.3543424e-02, ...,\n",
      "         6.2288612e-01,  1.4092278e-01, -4.6784092e-02],\n",
      "       [-1.3378071e+00, -3.9669356e-01, -9.4543391e-01, ...,\n",
      "         4.9712408e-01, -2.0634584e+00,  3.6244237e-01]],\n",
      "      shape=(55, 35), dtype=float32), array([[-0.22263603, -0.7445723 ,  0.172605  , ...,  0.33362007,\n",
      "        -1.1138483 , -0.42185393],\n",
      "       [ 0.41489786, -0.2876578 ,  0.5531501 , ...,  0.68419033,\n",
      "         0.5878689 ,  1.6347945 ],\n",
      "       [-0.5618251 ,  0.71041137,  0.00443831, ...,  0.8226836 ,\n",
      "         0.8179403 ,  1.3579504 ],\n",
      "       ...,\n",
      "       [-0.392138  ,  0.87754565,  1.0451857 , ...,  0.13810864,\n",
      "        -0.923214  , -0.9341176 ],\n",
      "       [-0.16692764, -0.27540794,  0.8450259 , ..., -0.29428422,\n",
      "        -1.2560081 , -0.15966828],\n",
      "       [-0.6006072 , -1.7086377 , -1.0870075 , ..., -0.92454714,\n",
      "        -0.98025227, -0.7386523 ]], shape=(55, 74), dtype=float32))\n",
      "[[1.]]\n",
      "[[0.6666667 0.6666667 0.        0.        0.        0.6666667]]\n"
     ]
    }
   ],
   "source": [
    "# let's see the size of each set and shape of data\n",
    "print(len(train))\n",
    "print(len(valid))\n",
    "print(len(test))\n",
    "\n",
    "print(train[0][0][0].shape)\n",
    "print(train[0][0][1].shape)\n",
    "print(train[0][0][2].shape)\n",
    "print(train[0][1].shape)\n",
    "\n",
    "print(train[0][0])\n",
    "print(train[0][1])\n",
    "print(train[0][2])"
   ]
  },
  {
   "cell_type": "code",
   "execution_count": 20,
   "id": "c9f50cfd",
   "metadata": {},
   "outputs": [
    {
     "name": "stdout",
     "output_type": "stream",
     "text": [
      "torch.Size([33, 8, 300])\n",
      "torch.Size([33, 8, 35])\n",
      "torch.Size([33, 8, 74])\n",
      "tensor([[-1.6667],\n",
      "        [ 0.6667],\n",
      "        [ 0.3333],\n",
      "        [ 0.3333],\n",
      "        [ 0.3333],\n",
      "        [ 1.6667],\n",
      "        [-1.3333],\n",
      "        [-0.6667]])\n",
      "tensor([33, 28, 26, 24, 22, 18, 14, 12])\n",
      "8\n"
     ]
    }
   ],
   "source": [
    "def multi_collate(batch):\n",
    "    '''\n",
    "    Collate functions assume batch = [Dataset[i] for i in index_set]\n",
    "    '''\n",
    "    # for later use we sort the batch in descending order of length\n",
    "    batch = sorted(batch, key=lambda x: x[0][0].shape[0], reverse=True)\n",
    "    \n",
    "    # get the data out of the batch\n",
    "    labels = torch.cat([torch.from_numpy(sample[1]) for sample in batch], dim=0)\n",
    "    sentences = pad_sequence([torch.FloatTensor(sample[0][0]) for sample in batch])\n",
    "    visual = pad_sequence([torch.FloatTensor(sample[0][1]) for sample in batch])\n",
    "    acoustic = pad_sequence([torch.FloatTensor(sample[0][2]) for sample in batch])\n",
    "    \n",
    "    # lengths are useful later in using RNNs\n",
    "    lengths = torch.LongTensor([sample[0][0].shape[0] for sample in batch])\n",
    "    return sentences, visual, acoustic, labels, lengths\n",
    "\n",
    "# construct dataloaders, valid and test could use around ~X3 times batch size since no_grad is used during eval\n",
    "batch_sz = 32\n",
    "train_loader = DataLoader(train, shuffle=True, batch_size=batch_sz, collate_fn=multi_collate)\n",
    "valid_loader = DataLoader(valid, shuffle=False, batch_size=batch_sz*3, collate_fn=multi_collate)\n",
    "test_loader = DataLoader(test, shuffle=False, batch_size=batch_sz*3, collate_fn=multi_collate)\n",
    "\n",
    "# create a temporary dataloader just to see how the batch looks like\n",
    "temp_loader = iter(DataLoader(test, shuffle=True, batch_size=8, collate_fn=multi_collate))\n",
    "batch = next(temp_loader)\n",
    "\n",
    "print(batch[0].shape) # word vectors\n",
    "print(batch[1].shape) # visual features\n",
    "print(batch[2].shape) # acoustic features\n",
    "print(batch[3]) # labels\n",
    "print(batch[4]) # lengths\n",
    "print(batch[4].size(0)) # batch size"
   ]
  },
  {
   "cell_type": "code",
   "execution_count": 21,
   "id": "14cc08b7",
   "metadata": {},
   "outputs": [],
   "source": [
    "from __future__ import print_function\n",
    "import torch\n",
    "import torch.nn as nn\n",
    "import torch.nn.functional as F\n",
    "from torch.autograd import Variable\n",
    "from torch.nn.parameter import Parameter\n",
    "from torch.nn.init import xavier_uniform, xavier_normal, orthogonal"
   ]
  },
  {
   "cell_type": "code",
   "execution_count": 22,
   "id": "7e3be317",
   "metadata": {},
   "outputs": [],
   "source": [
    "class DNN(nn.Module):\n",
    "    '''\n",
    "    The subnetwork that is used in TFN in the pre-fusion stage\n",
    "    '''\n",
    "\n",
    "    def __init__(self, in_size, hidden_size, dropout):\n",
    "        '''\n",
    "        Args:\n",
    "            in_size: input dimension\n",
    "            hidden_size: hidden layer dimension\n",
    "            dropout: dropout probability\n",
    "        Output:\n",
    "            (return value in forward) a tensor of shape (batch_size, hidden_size)\n",
    "        '''\n",
    "        super(DNN, self).__init__()\n",
    "        self.norm = nn.BatchNorm1d(in_size)\n",
    "        self.drop = nn.Dropout(p=dropout)\n",
    "        self.linear_1 = nn.Linear(in_size, hidden_size)\n",
    "        self.linear_2 = nn.Linear(hidden_size, hidden_size)\n",
    "        self.linear_3 = nn.Linear(hidden_size, hidden_size)\n",
    "\n",
    "    def forward(self, x):\n",
    "        '''\n",
    "        Args:\n",
    "            x: tensor of shape (batch_size, in_size)\n",
    "        '''\n",
    "        normed = self.norm(x)\n",
    "        dropped = self.drop(normed)\n",
    "        y_1 = F.relu(self.linear_1(dropped))\n",
    "        y_2 = F.relu(self.linear_2(y_1))\n",
    "        y_3 = F.relu(self.linear_3(y_2))\n",
    "\n",
    "        return y_3"
   ]
  },
  {
   "cell_type": "code",
   "execution_count": null,
   "id": "6c705172",
   "metadata": {},
   "outputs": [],
   "source": [
    "class CNN1DSubnet(nn.Module):\n",
    "    \"\"\"\n",
    "    A 1D-CNN sub-network for processing a single modality.\n",
    "    It applies convolutions over the sequence dimension and uses\n",
    "    global average pooling to produce a fixed-size feature vector.\n",
    "    \n",
    "    Input shape: (batch_size, seq_len, in_size)\n",
    "    Output shape: (batch_size, out_size)\n",
    "    \"\"\"\n",
    "    def __init__(self, in_size, hidden_size, out_size, kernel_size=3, dropout=0.25, num_layers=2):\n",
    "        super(CNN1DSubnet, self).__init__()\n",
    "        \n",
    "        if kernel_size <= 0:\n",
    "            raise ValueError(\"kernel_size must be positive\")\n",
    "        if kernel_size % 2 == 0:\n",
    "            raise ValueError(\"kernel_size should be odd for symmetric padding\")\n",
    "        if dropout < 0 or dropout > 1:\n",
    "            raise ValueError(\"dropout must be between 0 and 1\")\n",
    "        if in_size <= 0 or hidden_size <= 0 or out_size <= 0:\n",
    "            raise ValueError(\"All size parameters must be positive\")\n",
    "        \n",
    "        self.in_size = in_size\n",
    "        self.hidden_size = hidden_size\n",
    "        self.out_size = out_size\n",
    "        self.num_layers = num_layers\n",
    "        \n",
    "        self.conv_layers = nn.ModuleList()\n",
    "        self.bn_layers = nn.ModuleList()\n",
    "        self.dropout_layers = nn.ModuleList()\n",
    "        \n",
    "        self.conv_layers.append(nn.Conv1d(in_size, hidden_size, kernel_size=kernel_size, padding=kernel_size // 2))\n",
    "        self.bn_layers.append(nn.BatchNorm1d(hidden_size))\n",
    "        self.dropout_layers.append(nn.Dropout(dropout))\n",
    "        \n",
    "        for _ in range(num_layers - 1):\n",
    "            self.conv_layers.append(nn.Conv1d(hidden_size, hidden_size, kernel_size=kernel_size, padding=kernel_size // 2))\n",
    "            self.bn_layers.append(nn.BatchNorm1d(hidden_size))\n",
    "            self.dropout_layers.append(nn.Dropout(dropout))\n",
    "        \n",
    "        self.pool = nn.AdaptiveAvgPool1d(1)\n",
    "        self.fc = nn.Linear(hidden_size, out_size)\n",
    "        self._init_weights()\n",
    "    \n",
    "    def _init_weights(self):\n",
    "        for m in self.modules():\n",
    "            if isinstance(m, nn.Conv1d):\n",
    "                nn.init.kaiming_normal_(m.weight, mode='fan_out', nonlinearity='relu')\n",
    "                if m.bias is not None:\n",
    "                    nn.init.constant_(m.bias, 0)\n",
    "            elif isinstance(m, nn.BatchNorm1d):\n",
    "                nn.init.constant_(m.weight, 1)\n",
    "                nn.init.constant_(m.bias, 0)\n",
    "            elif isinstance(m, nn.Linear):\n",
    "                nn.init.normal_(m.weight, 0, 0.01)\n",
    "                nn.init.constant_(m.bias, 0)\n",
    "\n",
    "    def forward(self, x):\n",
    "        \"\"\"\n",
    "        Forward pass of the CNN1D subnet.\n",
    "        \n",
    "        Args:\n",
    "            x: Input tensor of shape (batch_size, seq_len, in_size)\n",
    "        \n",
    "        Returns:\n",
    "            Output tensor of shape (batch_size, out_size)\n",
    "        \"\"\"\n",
    "        if x.dim() != 3:\n",
    "            raise ValueError(f\"Expected 3D input tensor, got {x.dim()}D\")\n",
    "        \n",
    "        batch_size, seq_len, feature_dim = x.shape\n",
    "        \n",
    "        if feature_dim != self.in_size:\n",
    "            raise ValueError(f\"Input feature dimension mismatch. Expected {self.in_size}, got {feature_dim}\")\n",
    "        \n",
    "        if seq_len == 0:\n",
    "            raise ValueError(\"Sequence length cannot be zero\")\n",
    "        \n",
    "        x = x.transpose(1, 2)  # (batch_size, in_size, seq_len)\n",
    "        \n",
    "        for i in range(self.num_layers):\n",
    "            x = self.conv_layers[i](x)\n",
    "            if batch_size > 1:\n",
    "                x = self.bn_layers[i](x)\n",
    "            x = F.relu(x)\n",
    "            x = self.dropout_layers[i](x)\n",
    "        \n",
    "        # Shape changes from (batch, hidden, seq_len) to (batch, hidden, 1)\n",
    "        x = self.pool(x)\n",
    "        x = x.squeeze(-1)\n",
    "        output = self.fc(x)\n",
    "        \n",
    "        return output\n"
   ]
  },
  {
   "cell_type": "code",
   "execution_count": null,
   "id": "8d8c35c5",
   "metadata": {},
   "outputs": [],
   "source": [
    "import torch\n",
    "import torch.nn as nn\n",
    "import torch.nn.functional as F\n",
    "from sklearn.svm import SVR\n",
    "import xgboost as xgb\n",
    "\n",
    "class MyModel:\n",
    "    \"\"\"\n",
    "    Flexible wrapper for:\n",
    "    - Single modality CNN (PyTorch) using CNN1DSubnet \n",
    "    - Single modality DNN (PyTorch) using DNN \n",
    "    - OR SVM (scikit-learn)\n",
    "    - OR XGBoost (xgboost)\n",
    "    \"\"\"\n",
    "\n",
    "    def __init__(self,\n",
    "                 model_type='cnn',\n",
    "                 input_size=None,           \n",
    "                 hidden_size=128,           \n",
    "                 dropout=0.25,              \n",
    "                 output_size=1,             \n",
    "                 kernel_size=3,             \n",
    "                 num_layers=2,              \n",
    "                 svm_params=None,\n",
    "                 xgb_params=None):\n",
    "\n",
    "        self.model_type = model_type\n",
    "\n",
    "        if self.model_type == 'cnn':\n",
    "            if input_size is None:\n",
    "                raise ValueError(\"input_size must be specified for CNN model\")\n",
    "            \n",
    "            self.nn_model = CNN1DSubnet(\n",
    "                in_size=input_size,\n",
    "                hidden_size=hidden_size,\n",
    "                out_size=output_size,\n",
    "                kernel_size=kernel_size,\n",
    "                dropout=dropout,\n",
    "                num_layers=num_layers\n",
    "            )\n",
    "\n",
    "        elif self.model_type == 'nn':\n",
    "            if input_size is None:\n",
    "                raise ValueError(\"input_size must be specified for NN model\")\n",
    "            \n",
    "            self.dnn_backbone = DNN(\n",
    "                in_size=input_size,\n",
    "                hidden_size=hidden_size,\n",
    "                dropout=dropout\n",
    "            )\n",
    "            self.output_layer = nn.Linear(hidden_size, output_size)\n",
    "            \n",
    "            self.nn_model = nn.Sequential(self.dnn_backbone, self.output_layer)\n",
    "\n",
    "        elif self.model_type == 'svm':\n",
    "            default_svm_params = {\n",
    "                'kernel': 'rbf',\n",
    "                'C': 1.0,\n",
    "                'gamma': 'scale'\n",
    "            }\n",
    "            if svm_params:\n",
    "                default_svm_params.update(svm_params)\n",
    "            self.svm_model = SVR(**default_svm_params)\n",
    "\n",
    "        elif self.model_type == 'xgboost':\n",
    "            default_xgb_params = {\n",
    "                'n_estimators': 100,\n",
    "                'learning_rate': 0.1,\n",
    "                'max_depth': 6,\n",
    "                'random_state': 42\n",
    "            }\n",
    "            if xgb_params:\n",
    "                default_xgb_params.update(xgb_params)\n",
    "            self.xgb_model = xgb.XGBRegressor(**default_xgb_params)\n",
    "            \n",
    "        else:\n",
    "            raise ValueError(\"model_type must be 'cnn', 'dnn', 'svm', or 'xgboost'.\")\n",
    "\n",
    "    def forward(self, x): \n",
    "        \"\"\"\n",
    "        Forward for single modality CNN/DNN only.\n",
    "        Args:\n",
    "            x: Input tensor\n",
    "               - For CNN: shape (batch_size, seq_len, input_size)\n",
    "               - For DNN: shape (batch_size, input_size)\n",
    "        \"\"\"\n",
    "        if self.model_type not in ['cnn', 'dnn']:\n",
    "            raise RuntimeError(\"Forward is only for CNN/DNN model.\")\n",
    "        return self.nn_model(x)\n",
    "\n",
    "    def extract_features(self, x):\n",
    "        \"\"\"\n",
    "        Use CNN/DNN to get features for classical models.\n",
    "        Args:\n",
    "            x: Input tensor\n",
    "               - For CNN: shape (batch_size, seq_len, input_size)\n",
    "               - For DNN: shape (batch_size, input_size)\n",
    "        \"\"\"\n",
    "        if self.model_type == 'dnn':\n",
    "            with torch.no_grad():\n",
    "                features = self.dnn_backbone(x)\n",
    "            return features.cpu().numpy()\n",
    "        elif self.model_type == 'cnn':\n",
    "            with torch.no_grad():\n",
    "                features = self.nn_model(x)\n",
    "            return features.cpu().numpy()\n",
    "        else:\n",
    "            raise RuntimeError(\"Feature extraction requires CNN or DNN model.\")\n",
    "\n",
    "    def train_svm(self, X_train, y_train):\n",
    "        if self.model_type != 'svm':\n",
    "            raise RuntimeError(\"Current model is not an SVM.\")\n",
    "        self.svm_model.fit(X_train, y_train)\n",
    "\n",
    "    def predict_svm(self, X_test):\n",
    "        if self.model_type != 'svm':\n",
    "            raise RuntimeError(\"Current model is not an SVM.\")\n",
    "        return self.svm_model.predict(X_test)\n",
    "\n",
    "    def train_xgb(self, X_train, y_train):\n",
    "        if self.model_type != 'xgboost':\n",
    "            raise RuntimeError(\"Current model is not an XGBoost model.\")\n",
    "        self.xgb_model.fit(X_train, y_train)\n",
    "\n",
    "    def predict_xgb(self, X_test):\n",
    "        if self.model_type != 'xgboost':\n",
    "            raise RuntimeError(\"Current model is not an XGBoost model.\")\n",
    "        return self.xgb_model.predict(X_test)"
   ]
  },
  {
   "cell_type": "code",
   "execution_count": null,
   "id": "89729192",
   "metadata": {},
   "outputs": [
    {
     "name": "stdout",
     "output_type": "stream",
     "text": [
      "--- Running on cuda ---\n",
      "\n",
      "--- Initializing model_type='cnn' for modality='acoustic' ---\n",
      "\n",
      "--- Starting CNN Training Loop for acoustic modality ---\n"
     ]
    },
    {
     "name": "stderr",
     "output_type": "stream",
     "text": [
      "Epoch 1/100 [Train]: 100%|██████████| 511/511 [00:03<00:00, 165.88it/s, batch_loss=0.8415]\n",
      "Epoch 1/100 [Val]: 100%|██████████| 20/20 [00:00<00:00, 139.54it/s]\n"
     ]
    },
    {
     "name": "stdout",
     "output_type": "stream",
     "text": [
      "Epoch 1 Summary: Train Loss: 0.8336 | Validation Loss: 0.7690\n",
      "  -> New best model found! Saving to ./ckpt\\0627110929_cnn_acoustic_model.std\n"
     ]
    },
    {
     "name": "stderr",
     "output_type": "stream",
     "text": [
      "Epoch 2/100 [Train]: 100%|██████████| 511/511 [00:02<00:00, 176.84it/s, batch_loss=0.9962]\n",
      "Epoch 2/100 [Val]: 100%|██████████| 20/20 [00:00<00:00, 130.34it/s]\n"
     ]
    },
    {
     "name": "stdout",
     "output_type": "stream",
     "text": [
      "Epoch 2 Summary: Train Loss: 0.8231 | Validation Loss: 0.7534\n",
      "  -> New best model found! Saving to ./ckpt\\0627110929_cnn_acoustic_model.std\n"
     ]
    },
    {
     "name": "stderr",
     "output_type": "stream",
     "text": [
      "Epoch 3/100 [Train]: 100%|██████████| 511/511 [00:02<00:00, 175.89it/s, batch_loss=0.4311]\n",
      "Epoch 3/100 [Val]: 100%|██████████| 20/20 [00:00<00:00, 124.51it/s]\n"
     ]
    },
    {
     "name": "stdout",
     "output_type": "stream",
     "text": [
      "Epoch 3 Summary: Train Loss: 0.8176 | Validation Loss: 0.7557\n"
     ]
    },
    {
     "name": "stderr",
     "output_type": "stream",
     "text": [
      "Epoch 4/100 [Train]: 100%|██████████| 511/511 [00:02<00:00, 187.50it/s, batch_loss=0.1875]\n",
      "Epoch 4/100 [Val]: 100%|██████████| 20/20 [00:00<00:00, 152.03it/s]\n"
     ]
    },
    {
     "name": "stdout",
     "output_type": "stream",
     "text": [
      "Epoch 4 Summary: Train Loss: 0.8145 | Validation Loss: 0.7644\n"
     ]
    },
    {
     "name": "stderr",
     "output_type": "stream",
     "text": [
      "Epoch 5/100 [Train]: 100%|██████████| 511/511 [00:03<00:00, 164.95it/s, batch_loss=0.2689]\n",
      "Epoch 5/100 [Val]: 100%|██████████| 20/20 [00:00<00:00, 127.42it/s]\n"
     ]
    },
    {
     "name": "stdout",
     "output_type": "stream",
     "text": [
      "Epoch 5 Summary: Train Loss: 0.8108 | Validation Loss: 0.7660\n"
     ]
    },
    {
     "name": "stderr",
     "output_type": "stream",
     "text": [
      "Epoch 6/100 [Train]: 100%|██████████| 511/511 [00:03<00:00, 155.57it/s, batch_loss=0.7729]\n",
      "Epoch 6/100 [Val]: 100%|██████████| 20/20 [00:00<00:00, 132.80it/s]\n"
     ]
    },
    {
     "name": "stdout",
     "output_type": "stream",
     "text": [
      "Epoch 6 Summary: Train Loss: 0.8059 | Validation Loss: 0.7610\n"
     ]
    },
    {
     "name": "stderr",
     "output_type": "stream",
     "text": [
      "Epoch 7/100 [Train]: 100%|██████████| 511/511 [00:03<00:00, 169.40it/s, batch_loss=0.2356]\n",
      "Epoch 7/100 [Val]: 100%|██████████| 20/20 [00:00<00:00, 131.52it/s]\n"
     ]
    },
    {
     "name": "stdout",
     "output_type": "stream",
     "text": [
      "Epoch 7 Summary: Train Loss: 0.8044 | Validation Loss: 0.7489\n",
      "  -> New best model found! Saving to ./ckpt\\0627110929_cnn_acoustic_model.std\n"
     ]
    },
    {
     "name": "stderr",
     "output_type": "stream",
     "text": [
      "Epoch 8/100 [Train]: 100%|██████████| 511/511 [00:03<00:00, 158.52it/s, batch_loss=1.1937]\n",
      "Epoch 8/100 [Val]: 100%|██████████| 20/20 [00:00<00:00, 117.65it/s]\n"
     ]
    },
    {
     "name": "stdout",
     "output_type": "stream",
     "text": [
      "Epoch 8 Summary: Train Loss: 0.8005 | Validation Loss: 0.7525\n"
     ]
    },
    {
     "name": "stderr",
     "output_type": "stream",
     "text": [
      "Epoch 9/100 [Train]: 100%|██████████| 511/511 [00:03<00:00, 167.03it/s, batch_loss=0.7520]\n",
      "Epoch 9/100 [Val]: 100%|██████████| 20/20 [00:00<00:00, 131.86it/s]\n"
     ]
    },
    {
     "name": "stdout",
     "output_type": "stream",
     "text": [
      "Epoch 9 Summary: Train Loss: 0.7988 | Validation Loss: 0.7528\n"
     ]
    },
    {
     "name": "stderr",
     "output_type": "stream",
     "text": [
      "Epoch 10/100 [Train]: 100%|██████████| 511/511 [00:03<00:00, 168.49it/s, batch_loss=1.3005]\n",
      "Epoch 10/100 [Val]: 100%|██████████| 20/20 [00:00<00:00, 134.51it/s]\n"
     ]
    },
    {
     "name": "stdout",
     "output_type": "stream",
     "text": [
      "Epoch 10 Summary: Train Loss: 0.7965 | Validation Loss: 0.7503\n"
     ]
    },
    {
     "name": "stderr",
     "output_type": "stream",
     "text": [
      "Epoch 11/100 [Train]: 100%|██████████| 511/511 [00:03<00:00, 156.68it/s, batch_loss=0.5942]\n",
      "Epoch 11/100 [Val]: 100%|██████████| 20/20 [00:00<00:00, 130.72it/s]\n"
     ]
    },
    {
     "name": "stdout",
     "output_type": "stream",
     "text": [
      "Epoch 11 Summary: Train Loss: 0.7922 | Validation Loss: 0.7563\n"
     ]
    },
    {
     "name": "stderr",
     "output_type": "stream",
     "text": [
      "Epoch 12/100 [Train]: 100%|██████████| 511/511 [00:03<00:00, 154.12it/s, batch_loss=1.6698]\n",
      "Epoch 12/100 [Val]: 100%|██████████| 20/20 [00:00<00:00, 142.48it/s]\n"
     ]
    },
    {
     "name": "stdout",
     "output_type": "stream",
     "text": [
      "Epoch 12 Summary: Train Loss: 0.7921 | Validation Loss: 0.7528\n"
     ]
    },
    {
     "name": "stderr",
     "output_type": "stream",
     "text": [
      "Epoch 13/100 [Train]: 100%|██████████| 511/511 [00:03<00:00, 156.60it/s, batch_loss=1.0228]\n",
      "Epoch 13/100 [Val]: 100%|██████████| 20/20 [00:00<00:00, 136.12it/s]\n"
     ]
    },
    {
     "name": "stdout",
     "output_type": "stream",
     "text": [
      "Epoch 13 Summary: Train Loss: 0.7877 | Validation Loss: 0.7859\n"
     ]
    },
    {
     "name": "stderr",
     "output_type": "stream",
     "text": [
      "Epoch 14/100 [Train]: 100%|██████████| 511/511 [00:03<00:00, 167.61it/s, batch_loss=1.2132]\n",
      "Epoch 14/100 [Val]: 100%|██████████| 20/20 [00:00<00:00, 124.67it/s]\n"
     ]
    },
    {
     "name": "stdout",
     "output_type": "stream",
     "text": [
      "Epoch 14 Summary: Train Loss: 0.7870 | Validation Loss: 0.7593\n"
     ]
    },
    {
     "name": "stderr",
     "output_type": "stream",
     "text": [
      "Epoch 15/100 [Train]: 100%|██████████| 511/511 [00:02<00:00, 176.41it/s, batch_loss=1.3620]\n",
      "Epoch 15/100 [Val]: 100%|██████████| 20/20 [00:00<00:00, 140.61it/s]\n"
     ]
    },
    {
     "name": "stdout",
     "output_type": "stream",
     "text": [
      "Epoch 15 Summary: Train Loss: 0.7839 | Validation Loss: 0.7512\n",
      "Patience exhausted. Loading best model and lowering learning rate.\n",
      "Learning rate adjusted to: 0.0001\n"
     ]
    },
    {
     "name": "stderr",
     "output_type": "stream",
     "text": [
      "Epoch 16/100 [Train]: 100%|██████████| 511/511 [00:03<00:00, 161.57it/s, batch_loss=0.2846]\n",
      "Epoch 16/100 [Val]: 100%|██████████| 20/20 [00:00<00:00, 134.29it/s]\n"
     ]
    },
    {
     "name": "stdout",
     "output_type": "stream",
     "text": [
      "Epoch 16 Summary: Train Loss: 0.7878 | Validation Loss: 0.7487\n",
      "  -> New best model found! Saving to ./ckpt\\0627110929_cnn_acoustic_model.std\n"
     ]
    },
    {
     "name": "stderr",
     "output_type": "stream",
     "text": [
      "Epoch 17/100 [Train]: 100%|██████████| 511/511 [00:02<00:00, 176.24it/s, batch_loss=1.4559]\n",
      "Epoch 17/100 [Val]: 100%|██████████| 20/20 [00:00<00:00, 145.56it/s]\n"
     ]
    },
    {
     "name": "stdout",
     "output_type": "stream",
     "text": [
      "Epoch 17 Summary: Train Loss: 0.7828 | Validation Loss: 0.7532\n"
     ]
    },
    {
     "name": "stderr",
     "output_type": "stream",
     "text": [
      "Epoch 18/100 [Train]: 100%|██████████| 511/511 [00:02<00:00, 180.03it/s, batch_loss=0.2590]\n",
      "Epoch 18/100 [Val]: 100%|██████████| 20/20 [00:00<00:00, 129.81it/s]\n"
     ]
    },
    {
     "name": "stdout",
     "output_type": "stream",
     "text": [
      "Epoch 18 Summary: Train Loss: 0.7761 | Validation Loss: 0.7494\n"
     ]
    },
    {
     "name": "stderr",
     "output_type": "stream",
     "text": [
      "Epoch 19/100 [Train]: 100%|██████████| 511/511 [00:02<00:00, 179.56it/s, batch_loss=0.7266]\n",
      "Epoch 19/100 [Val]: 100%|██████████| 20/20 [00:00<00:00, 147.89it/s]\n"
     ]
    },
    {
     "name": "stdout",
     "output_type": "stream",
     "text": [
      "Epoch 19 Summary: Train Loss: 0.7720 | Validation Loss: 0.7533\n"
     ]
    },
    {
     "name": "stderr",
     "output_type": "stream",
     "text": [
      "Epoch 20/100 [Train]: 100%|██████████| 511/511 [00:02<00:00, 180.07it/s, batch_loss=0.6573]\n",
      "Epoch 20/100 [Val]: 100%|██████████| 20/20 [00:00<00:00, 149.00it/s]\n"
     ]
    },
    {
     "name": "stdout",
     "output_type": "stream",
     "text": [
      "Epoch 20 Summary: Train Loss: 0.7662 | Validation Loss: 0.7606\n"
     ]
    },
    {
     "name": "stderr",
     "output_type": "stream",
     "text": [
      "Epoch 21/100 [Train]: 100%|██████████| 511/511 [00:03<00:00, 167.53it/s, batch_loss=0.9117]\n",
      "Epoch 21/100 [Val]: 100%|██████████| 20/20 [00:00<00:00, 145.31it/s]\n"
     ]
    },
    {
     "name": "stdout",
     "output_type": "stream",
     "text": [
      "Epoch 21 Summary: Train Loss: 0.7589 | Validation Loss: 0.7560\n"
     ]
    },
    {
     "name": "stderr",
     "output_type": "stream",
     "text": [
      "Epoch 22/100 [Train]: 100%|██████████| 511/511 [00:02<00:00, 183.27it/s, batch_loss=0.5379]\n",
      "Epoch 22/100 [Val]: 100%|██████████| 20/20 [00:00<00:00, 147.11it/s]\n"
     ]
    },
    {
     "name": "stdout",
     "output_type": "stream",
     "text": [
      "Epoch 22 Summary: Train Loss: 0.7589 | Validation Loss: 0.7533\n"
     ]
    },
    {
     "name": "stderr",
     "output_type": "stream",
     "text": [
      "Epoch 23/100 [Train]: 100%|██████████| 511/511 [00:02<00:00, 178.68it/s, batch_loss=0.6140]\n",
      "Epoch 23/100 [Val]: 100%|██████████| 20/20 [00:00<00:00, 133.95it/s]\n"
     ]
    },
    {
     "name": "stdout",
     "output_type": "stream",
     "text": [
      "Epoch 23 Summary: Train Loss: 0.7542 | Validation Loss: 0.7622\n"
     ]
    },
    {
     "name": "stderr",
     "output_type": "stream",
     "text": [
      "Epoch 24/100 [Train]: 100%|██████████| 511/511 [00:03<00:00, 152.16it/s, batch_loss=0.9371]\n",
      "Epoch 24/100 [Val]: 100%|██████████| 20/20 [00:00<00:00, 125.81it/s]\n"
     ]
    },
    {
     "name": "stdout",
     "output_type": "stream",
     "text": [
      "Epoch 24 Summary: Train Loss: 0.7484 | Validation Loss: 0.7630\n",
      "Patience exhausted. Loading best model and lowering learning rate.\n",
      "Learning rate adjusted to: 1e-05\n"
     ]
    },
    {
     "name": "stderr",
     "output_type": "stream",
     "text": [
      "Epoch 25/100 [Train]: 100%|██████████| 511/511 [00:02<00:00, 183.56it/s, batch_loss=0.2518]\n",
      "Epoch 25/100 [Val]: 100%|██████████| 20/20 [00:00<00:00, 134.65it/s]\n"
     ]
    },
    {
     "name": "stdout",
     "output_type": "stream",
     "text": [
      "Epoch 25 Summary: Train Loss: 0.7811 | Validation Loss: 0.7474\n",
      "  -> New best model found! Saving to ./ckpt\\0627110929_cnn_acoustic_model.std\n"
     ]
    },
    {
     "name": "stderr",
     "output_type": "stream",
     "text": [
      "Epoch 26/100 [Train]: 100%|██████████| 511/511 [00:03<00:00, 170.27it/s, batch_loss=1.6388]\n",
      "Epoch 26/100 [Val]: 100%|██████████| 20/20 [00:00<00:00, 143.32it/s]\n"
     ]
    },
    {
     "name": "stdout",
     "output_type": "stream",
     "text": [
      "Epoch 26 Summary: Train Loss: 0.7813 | Validation Loss: 0.7473\n",
      "  -> New best model found! Saving to ./ckpt\\0627110929_cnn_acoustic_model.std\n"
     ]
    },
    {
     "name": "stderr",
     "output_type": "stream",
     "text": [
      "Epoch 27/100 [Train]: 100%|██████████| 511/511 [00:03<00:00, 168.67it/s, batch_loss=0.3899]\n",
      "Epoch 27/100 [Val]: 100%|██████████| 20/20 [00:00<00:00, 140.86it/s]\n"
     ]
    },
    {
     "name": "stdout",
     "output_type": "stream",
     "text": [
      "Epoch 27 Summary: Train Loss: 0.7796 | Validation Loss: 0.7495\n"
     ]
    },
    {
     "name": "stderr",
     "output_type": "stream",
     "text": [
      "Epoch 28/100 [Train]: 100%|██████████| 511/511 [00:02<00:00, 171.96it/s, batch_loss=1.2912]\n",
      "Epoch 28/100 [Val]: 100%|██████████| 20/20 [00:00<00:00, 141.78it/s]\n"
     ]
    },
    {
     "name": "stdout",
     "output_type": "stream",
     "text": [
      "Epoch 28 Summary: Train Loss: 0.7784 | Validation Loss: 0.7494\n"
     ]
    },
    {
     "name": "stderr",
     "output_type": "stream",
     "text": [
      "Epoch 29/100 [Train]: 100%|██████████| 511/511 [00:02<00:00, 178.18it/s, batch_loss=1.4019]\n",
      "Epoch 29/100 [Val]: 100%|██████████| 20/20 [00:00<00:00, 142.83it/s]\n"
     ]
    },
    {
     "name": "stdout",
     "output_type": "stream",
     "text": [
      "Epoch 29 Summary: Train Loss: 0.7775 | Validation Loss: 0.7483\n"
     ]
    },
    {
     "name": "stderr",
     "output_type": "stream",
     "text": [
      "Epoch 30/100 [Train]: 100%|██████████| 511/511 [00:02<00:00, 184.40it/s, batch_loss=1.6935]\n",
      "Epoch 30/100 [Val]: 100%|██████████| 20/20 [00:00<00:00, 146.17it/s]\n"
     ]
    },
    {
     "name": "stdout",
     "output_type": "stream",
     "text": [
      "Epoch 30 Summary: Train Loss: 0.7757 | Validation Loss: 0.7477\n"
     ]
    },
    {
     "name": "stderr",
     "output_type": "stream",
     "text": [
      "Epoch 31/100 [Train]: 100%|██████████| 511/511 [00:02<00:00, 184.20it/s, batch_loss=0.9233]\n",
      "Epoch 31/100 [Val]: 100%|██████████| 20/20 [00:00<00:00, 145.12it/s]\n"
     ]
    },
    {
     "name": "stdout",
     "output_type": "stream",
     "text": [
      "Epoch 31 Summary: Train Loss: 0.7761 | Validation Loss: 0.7500\n"
     ]
    },
    {
     "name": "stderr",
     "output_type": "stream",
     "text": [
      "Epoch 32/100 [Train]: 100%|██████████| 511/511 [00:03<00:00, 165.99it/s, batch_loss=0.9563]\n",
      "Epoch 32/100 [Val]: 100%|██████████| 20/20 [00:00<00:00, 144.18it/s]\n"
     ]
    },
    {
     "name": "stdout",
     "output_type": "stream",
     "text": [
      "Epoch 32 Summary: Train Loss: 0.7748 | Validation Loss: 0.7487\n"
     ]
    },
    {
     "name": "stderr",
     "output_type": "stream",
     "text": [
      "Epoch 33/100 [Train]: 100%|██████████| 511/511 [00:02<00:00, 171.17it/s, batch_loss=1.0316]\n",
      "Epoch 33/100 [Val]: 100%|██████████| 20/20 [00:00<00:00, 145.17it/s]\n"
     ]
    },
    {
     "name": "stdout",
     "output_type": "stream",
     "text": [
      "Epoch 33 Summary: Train Loss: 0.7762 | Validation Loss: 0.7491\n"
     ]
    },
    {
     "name": "stderr",
     "output_type": "stream",
     "text": [
      "Epoch 34/100 [Train]: 100%|██████████| 511/511 [00:02<00:00, 182.62it/s, batch_loss=0.7066]\n",
      "Epoch 34/100 [Val]: 100%|██████████| 20/20 [00:00<00:00, 139.69it/s]\n"
     ]
    },
    {
     "name": "stdout",
     "output_type": "stream",
     "text": [
      "Epoch 34 Summary: Train Loss: 0.7748 | Validation Loss: 0.7484\n",
      "Patience exhausted. Loading best model and lowering learning rate.\n",
      "Learning rate adjusted to: 1.0000000000000002e-06\n",
      "Early stopping triggered.\n",
      "--- CNN Training Complete ---\n",
      "--- CNN Training time --- 106.99 seconds\n",
      "\n",
      "--- Final Model Summary ---\n",
      "Model Type: cnn\n",
      "Modality: acoustic\n",
      "Input Size: 74\n",
      "Hidden Size: 128\n",
      "Best Validation Loss: 0.7473\n",
      "--- Training Complete ---\n"
     ]
    }
   ],
   "source": [
    "import torch\n",
    "import torch.nn as nn\n",
    "from torch.optim import Adam\n",
    "from torch.utils.data import DataLoader\n",
    "import numpy as np\n",
    "from sklearn.metrics import mean_absolute_error\n",
    "import os\n",
    "import time\n",
    "from tqdm import tqdm # Using tqdm is better than tqdm_notebook\n",
    "\n",
    "# ==========================================================================================\n",
    "# SCRIPT CONFIGURATION\n",
    "# ==========================================================================================\n",
    "\n",
    "# --- CHOOSE MODEL AND MODALITY TYPE HERE ---\n",
    "# Change these values to 'cnn', 'dnn', 'svm', or 'xgboost' to test each model.\n",
    "MODEL_TYPE_TO_TRAIN = 'cnn'\n",
    "MODALITY_TYPE = 'acoustic'  # Options: 'acoustic', 'visual', 'text'\n",
    "\n",
    "# --- General Setup ---\n",
    "torch.manual_seed(123)\n",
    "torch.cuda.manual_seed_all(123)\n",
    "CUDA = torch.cuda.is_available()\n",
    "DEVICE = torch.device(\"cuda\" if CUDA else \"cpu\")\n",
    "print(f\"--- Running on {DEVICE} ---\")\n",
    "\n",
    "# --- Model Hyperparameters ---\n",
    "text_size = 300\n",
    "visual_size = 35\n",
    "acoustic_size = 74\n",
    "\n",
    "# 根据选择的模态设置输入尺寸\n",
    "modality_sizes = {\n",
    "    'acoustic': acoustic_size,\n",
    "    'visual': visual_size, \n",
    "    'text': text_size\n",
    "}\n",
    "\n",
    "input_size = modality_sizes[MODALITY_TYPE]\n",
    "hidden_size = 128\n",
    "dropout = 0.3\n",
    "output_size = 1\n",
    "\n",
    "# CNN特有参数\n",
    "kernel_size = 3\n",
    "num_layers = 2\n",
    "\n",
    "# --- Training Hyperparameters ---\n",
    "MAX_EPOCH = 100\n",
    "patience = 8\n",
    "grad_clip_value = 1.0\n",
    "weight_decay = 0.1\n",
    "\n",
    "# --- Save Paths ---\n",
    "date = time.strftime('%m%d%H%M%S', time.localtime())\n",
    "save_dir = './ckpt'\n",
    "os.makedirs(save_dir, exist_ok=True)\n",
    "model_save_path = os.path.join(save_dir, f'{date}_{MODEL_TYPE_TO_TRAIN}_{MODALITY_TYPE}_model.std')\n",
    "optim_save_path = os.path.join(save_dir, f'{date}_{MODEL_TYPE_TO_TRAIN}_{MODALITY_TYPE}_optim.std')\n",
    "\n",
    "# ==========================================================================================\n",
    "# MODEL INITIALIZATION\n",
    "# ==========================================================================================\n",
    "\n",
    "print(f\"\\n--- Initializing model_type='{MODEL_TYPE_TO_TRAIN}' for modality='{MODALITY_TYPE}' ---\")\n",
    "\n",
    "model_wrapper = MyModel(\n",
    "    model_type=MODEL_TYPE_TO_TRAIN,\n",
    "    input_size=input_size,\n",
    "    hidden_size=hidden_size,\n",
    "    dropout=dropout,\n",
    "    output_size=output_size,\n",
    "    kernel_size=kernel_size,\n",
    "    num_layers=num_layers,\n",
    "    # Classical model params\n",
    "    svm_params={'kernel': 'rbf', 'C': 1.0},\n",
    "    xgb_params={'n_estimators': 100, 'learning_rate': 0.1}\n",
    ")\n",
    "\n",
    "# ==========================================================================================\n",
    "# HELPER FUNCTIONS\n",
    "# ==========================================================================================\n",
    "\n",
    "def extract_modality_data(batch, modality_type):\n",
    "    \"\"\"\n",
    "    Args:\n",
    "        batch: (text, visual, acoustic, label, lengths)\n",
    "        modality_type: 'text', 'visual', or 'acoustic'\n",
    "    \n",
    "    Returns:\n",
    "        modality_data, label, lengths (if needed)\n",
    "    \"\"\"\n",
    "    t, v, a, y, l = batch\n",
    "    \n",
    "    if modality_type == 'acoustic':\n",
    "        if a.dim() == 3 and a.shape[1] == y.shape[0]: \n",
    "            a = a.transpose(0, 1)  # (seq_len, batch, feat) -> (batch, seq_len, feat)\n",
    "        return a, y, l\n",
    "    elif modality_type == 'visual':\n",
    "        if v.dim() == 3 and v.shape[1] == y.shape[0]:\n",
    "            v = v.transpose(0, 1)\n",
    "        return v, y, l\n",
    "    elif modality_type == 'text':\n",
    "        if t.dim() == 3 and t.shape[1] == y.shape[0]:\n",
    "            t = t.transpose(0, 1)\n",
    "        return t, y, l\n",
    "    else:\n",
    "        raise ValueError(f\"Unknown modality_type: {modality_type}\")\n",
    "\n",
    "def prepare_data_for_model(modality_data, model_type):\n",
    "\n",
    "    if model_type == 'cnn':\n",
    "        if modality_data.dim() == 2:\n",
    "            modality_data = modality_data.unsqueeze(1)  # (batch, 1, features)\n",
    "        return modality_data\n",
    "    elif model_type == 'dnn':\n",
    "        if modality_data.dim() == 3:\n",
    "            return modality_data.mean(dim=1)  # (batch_size, seq_len, input_size) -> (batch_size, input_size)\n",
    "        elif modality_data.dim() == 2:\n",
    "            return modality_data\n",
    "        else:\n",
    "            return modality_data.unsqueeze(0)\n",
    "    else:\n",
    "        return modality_data\n",
    "\n",
    "# ==========================================================================================\n",
    "# CONDITIONAL TRAINING LOGIC\n",
    "# ==========================================================================================\n",
    "\n",
    "###\n",
    "### CASE 1: Train a full Neural Network ('cnn' or 'dnn')\n",
    "###\n",
    "start = time.time()\n",
    "\n",
    "if model_wrapper.model_type in ['cnn', 'dnn']:\n",
    "    start = time.time()\n",
    "    # The model to train is the PyTorch nn.Module inside the wrapper\n",
    "    pytorch_model = model_wrapper.nn_model\n",
    "    pytorch_model.to(DEVICE)\n",
    "\n",
    "    optimizer = Adam([p for p in pytorch_model.parameters() if p.requires_grad], weight_decay=weight_decay)\n",
    "    criterion = nn.L1Loss(reduction='sum')\n",
    "    lr_scheduler = torch.optim.lr_scheduler.StepLR(optimizer, step_size=1, gamma=0.1)\n",
    "\n",
    "    best_valid_loss = float('inf')\n",
    "    curr_patience = patience\n",
    "    num_trials = 3\n",
    "\n",
    "    print(f\"\\n--- Starting {MODEL_TYPE_TO_TRAIN.upper()} Training Loop for {MODALITY_TYPE} modality ---\")\n",
    "    for e in range(1, MAX_EPOCH + 1):\n",
    "        # --- Training Phase ---\n",
    "        pytorch_model.train()\n",
    "        train_loss = 0.0\n",
    "        train_iter = tqdm(train_loader, desc=f\"Epoch {e}/{MAX_EPOCH} [Train]\")\n",
    "        for batch in train_iter:\n",
    "            pytorch_model.zero_grad()\n",
    "            \n",
    "            modality_data, y, lengths = extract_modality_data(batch, MODALITY_TYPE)\n",
    "            modality_data = modality_data.to(DEVICE)\n",
    "            y = y.to(DEVICE)\n",
    "            \n",
    "            x = prepare_data_for_model(modality_data, MODEL_TYPE_TO_TRAIN)\n",
    "            y_pred = pytorch_model(x)\n",
    "            \n",
    "            if y_pred.shape != y.shape:\n",
    "                if y_pred.dim() == 2 and y.dim() == 1:\n",
    "                    y = y.unsqueeze(1)\n",
    "                elif y_pred.dim() == 1 and y.dim() == 2:\n",
    "                    y_pred = y_pred.unsqueeze(1)\n",
    "                    \n",
    "            loss = criterion(y_pred, y)\n",
    "            loss.backward()\n",
    "            torch.nn.utils.clip_grad_value_([p for p in pytorch_model.parameters() if p.requires_grad], grad_clip_value)\n",
    "            optimizer.step()\n",
    "            train_loss += loss.item()\n",
    "            train_iter.set_postfix(batch_loss=f\"{loss.item() / y.size(0):.4f}\")\n",
    "\n",
    "        # --- Validation Phase ---\n",
    "        pytorch_model.eval()\n",
    "        valid_loss = 0.0\n",
    "        with torch.no_grad():\n",
    "            valid_iter = tqdm(valid_loader, desc=f\"Epoch {e}/{MAX_EPOCH} [Val]\")\n",
    "            for batch in valid_iter:\n",
    "                modality_data, y, lengths = extract_modality_data(batch, MODALITY_TYPE)\n",
    "                modality_data = modality_data.to(DEVICE)\n",
    "                y = y.to(DEVICE)\n",
    "                x = prepare_data_for_model(modality_data, MODEL_TYPE_TO_TRAIN)\n",
    "                y_pred = pytorch_model(x)\n",
    "                \n",
    "                if y_pred.shape != y.shape:\n",
    "                    if y_pred.dim() == 2 and y.dim() == 1:\n",
    "                        y = y.unsqueeze(1)\n",
    "                    elif y_pred.dim() == 1 and y.dim() == 2:\n",
    "                        y_pred = y_pred.unsqueeze(1)\n",
    "                        \n",
    "                loss = criterion(y_pred, y)\n",
    "                valid_loss += loss.item()\n",
    "\n",
    "        train_loss_avg = train_loss / len(train_loader.dataset)\n",
    "        valid_loss_avg = valid_loss / len(valid_loader.dataset)\n",
    "        print(f\"Epoch {e} Summary: Train Loss: {train_loss_avg:.4f} | Validation Loss: {valid_loss_avg:.4f}\")\n",
    "\n",
    "        # --- Early Stopping & Model Saving ---\n",
    "        if valid_loss_avg < best_valid_loss:\n",
    "            best_valid_loss = valid_loss_avg\n",
    "            print(f\"  -> New best model found! Saving to {model_save_path}\")\n",
    "            torch.save(pytorch_model.state_dict(), model_save_path)\n",
    "            torch.save(optimizer.state_dict(), optim_save_path)\n",
    "            curr_patience = patience\n",
    "        else:\n",
    "            curr_patience -= 1\n",
    "\n",
    "        if curr_patience <= 0:\n",
    "            print(\"Patience exhausted. Loading best model and lowering learning rate.\")\n",
    "            num_trials -= 1\n",
    "            curr_patience = patience\n",
    "            pytorch_model.load_state_dict(torch.load(model_save_path))\n",
    "            optimizer.load_state_dict(torch.load(optim_save_path))\n",
    "            lr_scheduler.step()\n",
    "            print(f\"Learning rate adjusted to: {optimizer.param_groups[0]['lr']}\")\n",
    "\n",
    "        if num_trials <= 0:\n",
    "            print(\"Early stopping triggered.\")\n",
    "            break\n",
    "    print(f\"--- {MODEL_TYPE_TO_TRAIN.upper()} Training Complete ---\")\n",
    "    end = time.time()\n",
    "    print(f\"--- {MODEL_TYPE_TO_TRAIN.upper()} Training time --- {end - start:.2f} seconds\")\n",
    "\n",
    "###\n",
    "### CASE 2: Train a classical model ('svm' or 'xgboost')\n",
    "###\n",
    "elif model_wrapper.model_type in ['svm', 'xgboost']:\n",
    "    start = time.time()\n",
    "\n",
    "    # Helper function to extract features from a dataloader\n",
    "    def extract_features_from_loader(loader, model_wrapper_instance, desc=\"\"):\n",
    "        X, y = [], []\n",
    "        for batch in tqdm(loader, desc=desc):\n",
    "            modality_data, label, lengths = extract_modality_data(batch, MODALITY_TYPE)\n",
    "            modality_data = modality_data.to(DEVICE)\n",
    "            x = prepare_data_for_model(modality_data, 'cnn') \n",
    "            \n",
    "            # Use the wrapper's feature extraction method\n",
    "            features = model_wrapper_instance.extract_features(x)\n",
    "            X.append(features)\n",
    "            y.append(label.cpu().numpy())\n",
    "        return np.vstack(X), np.concatenate(y)\n",
    "\n",
    "    print(\"\\nPhase 1: Extracting features using CNN backbone...\")\n",
    "    \n",
    "    feature_extractor = MyModel(\n",
    "        model_type='cnn',\n",
    "        input_size=input_size,\n",
    "        hidden_size=hidden_size,\n",
    "        output_size=hidden_size, \n",
    "        kernel_size=kernel_size,\n",
    "        dropout=dropout,\n",
    "        num_layers=num_layers\n",
    "    )\n",
    "    feature_extractor.nn_model.to(DEVICE)\n",
    "    X_train, y_train = extract_features_from_loader(train_loader, feature_extractor, \"Extracting Train Features\")\n",
    "    X_valid, y_valid = extract_features_from_loader(valid_loader, feature_extractor, \"Extracting Valid Features\")\n",
    "    print(f\"Extracted {X_train.shape[0]} training samples and {X_valid.shape[0]} validation samples.\")\n",
    "\n",
    "    print(f\"\\nPhase 2: Training the {model_wrapper.model_type.upper()} model...\")\n",
    "    if model_wrapper.model_type == 'svm':\n",
    "        # The .ravel() is important to convert the y column-vector to a 1d-array for scikit-learn\n",
    "        model_wrapper.train_svm(X_train, y_train.ravel())\n",
    "        print(\"SVM training complete.\")\n",
    "        y_pred = model_wrapper.predict_svm(X_valid)\n",
    "        end = time.time()\n",
    "        print(f\"SVM training time: {end - start:.2f} seconds\")\n",
    "\n",
    "    elif model_wrapper.model_type == 'xgboost':\n",
    "        model_wrapper.train_xgb(X_train, y_train.ravel())\n",
    "        print(\"XGBoost training complete.\")\n",
    "        y_pred = model_wrapper.predict_xgb(X_valid)\n",
    "        end = time.time()\n",
    "        print(f\"XGBoost training time: {end - start:.2f} seconds\")\n",
    "\n",
    "    # Evaluate the classical model\n",
    "    mae = mean_absolute_error(y_valid, y_pred)\n",
    "    print(f\"\\n--- Evaluation Complete ---\")\n",
    "    print(f\"Validation MAE for {model_wrapper.model_type.upper()} on {MODALITY_TYPE}: {mae:.4f}\")\n",
    "\n",
    "# ==========================================================================================\n",
    "# FINAL EVALUATION (Optional)\n",
    "# ==========================================================================================\n",
    "\n",
    "print(f\"\\n--- Final Model Summary ---\")\n",
    "print(f\"Model Type: {MODEL_TYPE_TO_TRAIN}\")\n",
    "print(f\"Modality: {MODALITY_TYPE}\")\n",
    "print(f\"Input Size: {input_size}\")\n",
    "print(f\"Hidden Size: {hidden_size}\")\n",
    "if MODEL_TYPE_TO_TRAIN in ['cnn', 'dnn']:\n",
    "    print(f\"Best Validation Loss: {best_valid_loss:.4f}\")\n",
    "print(\"--- Training Complete ---\")"
   ]
  },
  {
   "cell_type": "code",
   "execution_count": null,
   "id": "059a4994",
   "metadata": {},
   "outputs": [
    {
     "name": "stdout",
     "output_type": "stream",
     "text": [
      "--- Evaluating Final Model (Type: CNN) on acoustic modality ---\n",
      "Loading saved CNN model from: ./ckpt\\0627110929_cnn_acoustic_model.std\n"
     ]
    },
    {
     "name": "stderr",
     "output_type": "stream",
     "text": [
      "Evaluating CNN on Test Set: 100%|██████████| 49/49 [00:00<00:00, 86.52it/s]"
     ]
    },
    {
     "name": "stdout",
     "output_type": "stream",
     "text": [
      "\n",
      "--- Test Set Performance Metrics for acoustic modality ---\n",
      "Test Set MAE: 0.8140\n",
      "Test Set Accuracy (Binary): 0.6604\n",
      "Test Set F1-Score (Binary): 0.7703\n",
      "Test Set Precision (Binary): 0.6700\n",
      "Test Set Recall (Binary): 0.9059\n",
      "Test Set Accuracy (7-Class): 0.4145\n",
      "\n",
      "--- Additional Statistics ---\n",
      "Total test samples: 4659\n",
      "Non-zero samples for binary classification: 3634\n",
      "Prediction range: [-0.6003, 1.8828]\n",
      "Ground truth range: [-3.0000, 3.0000]\n"
     ]
    },
    {
     "name": "stderr",
     "output_type": "stream",
     "text": [
      "\n"
     ]
    }
   ],
   "source": [
    "from sklearn.metrics import accuracy_score, precision_recall_fscore_support, mean_absolute_error\n",
    "from tqdm import tqdm\n",
    "import numpy as np\n",
    "\n",
    "# This script assumes the 'model_wrapper' object from the training cell is available.\n",
    "# It uses model_wrapper.model_type to decide how to evaluate.\n",
    "\n",
    "print(f\"--- Evaluating Final Model (Type: {model_wrapper.model_type.upper()}) on {MODALITY_TYPE} modality ---\")\n",
    "\n",
    "# These will store the final labels and predictions for metric calculation\n",
    "y_true = []\n",
    "y_pred = []\n",
    "\n",
    "# --- Conditional Evaluation Logic ---\n",
    "\n",
    "# CASE 1: The trained model is a CNN or DNN\n",
    "if model_wrapper.model_type in ['cnn', 'dnn']:\n",
    "    # The model to evaluate is the PyTorch nn.Module\n",
    "    pytorch_model = model_wrapper.nn_model\n",
    "\n",
    "    # Load the best saved weights from the training step\n",
    "    try:\n",
    "        print(f\"Loading saved {model_wrapper.model_type.upper()} model from: {model_save_path}\")\n",
    "        pytorch_model.load_state_dict(torch.load(model_save_path))\n",
    "    except FileNotFoundError:\n",
    "        print(\"ERROR: Could not find saved model file. Please ensure the training step ran successfully and saved a model.\")\n",
    "        # Exit or handle error appropriately\n",
    "\n",
    "    pytorch_model.to(DEVICE)\n",
    "    pytorch_model.eval()\n",
    "\n",
    "    with torch.no_grad():\n",
    "        test_iter = tqdm(test_loader, desc=f\"Evaluating {model_wrapper.model_type.upper()} on Test Set\")\n",
    "        for batch in test_iter:\n",
    "            modality_data, y, lengths = extract_modality_data(batch, MODALITY_TYPE)\n",
    "            modality_data = modality_data.to(DEVICE)\n",
    "            y = y.to(DEVICE)\n",
    "            x = prepare_data_for_model(modality_data, model_wrapper.model_type)\n",
    "\n",
    "            # Get model predictions\n",
    "            predictions = pytorch_model(x)\n",
    "            \n",
    "            if predictions.shape != y.shape:\n",
    "                if predictions.dim() == 2 and y.dim() == 1:\n",
    "                    y = y.unsqueeze(1)\n",
    "                elif predictions.dim() == 1 and y.dim() == 2:\n",
    "                    predictions = predictions.unsqueeze(1)\n",
    "\n",
    "            # Append ground truth to y_true and predictions to y_pred\n",
    "            y_true.append(y.cpu().numpy())\n",
    "            y_pred.append(predictions.cpu().numpy())\n",
    "\n",
    "# CASE 2: The trained model is SVM or XGBoost\n",
    "elif model_wrapper.model_type in ['svm', 'xgboost']:\n",
    "    # The model is already \"trained\" and lives in the model_wrapper object.\n",
    "    # We first need to extract features from the test set.\n",
    "    print(f\"Evaluating trained {model_wrapper.model_type.upper()} model on Test Set.\")\n",
    "\n",
    "    # Helper function to extract features from test set\n",
    "    def extract_features_from_test_loader(loader, model_wrapper_instance, desc=\"\"):\n",
    "        X, y = [], []\n",
    "        for batch in tqdm(loader, desc=desc):\n",
    "            modality_data, label, lengths = extract_modality_data(batch, MODALITY_TYPE)\n",
    "            modality_data = modality_data.to(DEVICE)\n",
    "            x = prepare_data_for_model(modality_data, 'cnn') \n",
    "            \n",
    "            # Use the wrapper's feature extraction method\n",
    "            features = model_wrapper_instance.extract_features(x)\n",
    "            X.append(features)\n",
    "            y.append(label.cpu().numpy())\n",
    "        return np.vstack(X), np.concatenate(y)\n",
    "\n",
    "    # Extract features from test set using the same feature extractor as training\n",
    "    X_test, y_test = extract_features_from_test_loader(test_loader, feature_extractor, \"Extracting Test Features\")\n",
    "\n",
    "    # The ground truth labels are directly from the loader\n",
    "    y_true = y_test\n",
    "\n",
    "    # Get predictions from the trained classical model\n",
    "    if model_wrapper.model_type == 'svm':\n",
    "        y_pred = model_wrapper.predict_svm(X_test)\n",
    "    else: # xgboost\n",
    "        y_pred = model_wrapper.predict_xgb(X_test)\n",
    "\n",
    "# --- Metric Calculation (This part is now common for all model types) ---\n",
    "\n",
    "# If the output is a list of batches (from CNN/DNN path), concatenate them\n",
    "if isinstance(y_true, list):\n",
    "    y_true = np.concatenate(y_true, axis=0)\n",
    "if isinstance(y_pred, list):\n",
    "    y_pred = np.concatenate(y_pred, axis=0)\n",
    "\n",
    "# Ensure arrays are flat for metric functions\n",
    "y_true = y_true.ravel()\n",
    "y_pred = y_pred.ravel()\n",
    "\n",
    "print(f\"\\n--- Test Set Performance Metrics for {MODALITY_TYPE} modality ---\")\n",
    "\n",
    "# 1. MAE (Mean Absolute Error) - The primary regression metric\n",
    "mae = mean_absolute_error(y_true, y_pred)\n",
    "print(f\"Test Set MAE: {mae:.4f}\")\n",
    "\n",
    "# 2. Binary Classification Metrics (Sentiment Polarity: Positive/Negative)\n",
    "# Binarize scores based on whether the value is >= 0.\n",
    "# The non_zero_mask is used to exclude neutral (0.0) labels, as in the original MOSEI benchmark.\n",
    "non_zero_mask = y_true != 0\n",
    "if np.any(non_zero_mask):  # 确保有非零样本\n",
    "    y_true_bin = y_true[non_zero_mask] >= 0\n",
    "    y_pred_bin = y_pred[non_zero_mask] >= 0\n",
    "\n",
    "    bin_acc = accuracy_score(y_true_bin, y_pred_bin)\n",
    "    # Use zero_division=0 to prevent warnings if a class has no predictions\n",
    "    precision, recall, f1, _ = precision_recall_fscore_support(y_true_bin, y_pred_bin, average='binary', zero_division=0)\n",
    "\n",
    "    print(f\"Test Set Accuracy (Binary): {bin_acc:.4f}\")\n",
    "    print(f\"Test Set F1-Score (Binary): {f1:.4f}\")\n",
    "    print(f\"Test Set Precision (Binary): {precision:.4f}\")\n",
    "    print(f\"Test Set Recall (Binary): {recall:.4f}\")\n",
    "else:\n",
    "    print(\"Warning: No non-zero labels found for binary classification metrics.\")\n",
    "\n",
    "# 3. 7-Class Classification Accuracy\n",
    "# Simulates a 7-class problem by rounding regression scores to the nearest integer in [-3, 3]\n",
    "y_true_7class = np.clip(np.rint(y_true), -3, 3)\n",
    "y_pred_7class = np.clip(np.rint(y_pred), -3, 3)\n",
    "acc7 = accuracy_score(y_true_7class, y_pred_7class)\n",
    "print(f\"Test Set Accuracy (7-Class): {acc7:.4f}\")\n",
    "\n",
    "# 4. Additional statistics\n",
    "print(f\"\\n--- Additional Statistics ---\")\n",
    "print(f\"Total test samples: {len(y_true)}\")\n",
    "print(f\"Non-zero samples for binary classification: {np.sum(non_zero_mask) if 'non_zero_mask' in locals() else 'N/A'}\")\n",
    "print(f\"Prediction range: [{y_pred.min():.4f}, {y_pred.max():.4f}]\")\n",
    "print(f\"Ground truth range: [{y_true.min():.4f}, {y_true.max():.4f}]\")"
   ]
  },
  {
   "cell_type": "code",
   "execution_count": null,
   "id": "ca031a42",
   "metadata": {},
   "outputs": [],
   "source": []
  },
  {
   "cell_type": "code",
   "execution_count": 33,
   "id": "1d91eaa0",
   "metadata": {},
   "outputs": [
    {
     "name": "stdout",
     "output_type": "stream",
     "text": [
      "--- Running on cuda ---\n",
      "=== Unimodal Model Comparison Study ===\n",
      "Testing 3 modalities × 4 model types = 12 total combinations\n",
      "\n",
      "=== Starting Comprehensive Unimodal Model Training and Evaluation ===\n",
      "\n",
      "\n",
      "================================================================================\n",
      "Combination 1/12: ACOUSTIC + NN\n",
      "================================================================================\n",
      "Model Info: NN for acoustic modality (input_size: 74)\n",
      "Training NN on acoustic modality...\n"
     ]
    },
    {
     "name": "stderr",
     "output_type": "stream",
     "text": [
      "                                                                                     \r"
     ]
    },
    {
     "name": "stdout",
     "output_type": "stream",
     "text": [
      "Neural network training complete. Best validation loss: 0.7772\n",
      "Loaded best model weights from ./ckpt\\0627161323_nn_acoustic_model.std\n",
      "Evaluating NN on acoustic...\n"
     ]
    },
    {
     "name": "stderr",
     "output_type": "stream",
     "text": [
      "                                                                          \r"
     ]
    },
    {
     "name": "stdout",
     "output_type": "stream",
     "text": [
      "\n",
      "Results for acoustic + NN:\n",
      "  MAE: 0.8384\n",
      "  Binary Accuracy: 0.6285\n",
      "  Binary F1: 0.7719\n",
      "  7-Class Accuracy: 0.4136\n",
      "  Training Time: 138.12s\n",
      "\n",
      "================================================================================\n",
      "Combination 2/12: ACOUSTIC + CNN\n",
      "================================================================================\n",
      "Model Info: CNN for acoustic modality (input_size: 74)\n",
      "Training CNN on acoustic modality...\n"
     ]
    },
    {
     "name": "stderr",
     "output_type": "stream",
     "text": [
      "                                                                                     \r"
     ]
    },
    {
     "name": "stdout",
     "output_type": "stream",
     "text": [
      "Neural network training complete. Best validation loss: 0.7503\n",
      "Loaded best model weights from ./ckpt\\0627161542_cnn_acoustic_model.std\n",
      "Evaluating CNN on acoustic...\n"
     ]
    },
    {
     "name": "stderr",
     "output_type": "stream",
     "text": [
      "                                                                           \r"
     ]
    },
    {
     "name": "stdout",
     "output_type": "stream",
     "text": [
      "\n",
      "Results for acoustic + CNN:\n",
      "  MAE: 0.8184\n",
      "  Binary Accuracy: 0.6486\n",
      "  Binary F1: 0.7762\n",
      "  7-Class Accuracy: 0.4153\n",
      "  Training Time: 96.02s\n",
      "\n",
      "================================================================================\n",
      "Combination 3/12: ACOUSTIC + SVM\n",
      "================================================================================\n",
      "Model Info: SVM for acoustic modality (input_size: 74)\n",
      "Phase 1: Extracting acoustic features using CNN backbone...\n"
     ]
    },
    {
     "name": "stderr",
     "output_type": "stream",
     "text": [
      "                                                                                        \r"
     ]
    },
    {
     "name": "stdout",
     "output_type": "stream",
     "text": [
      "Extracted 16322 training samples and 1871 validation samples.\n",
      "Phase 2: Training SVM with acoustic features...\n",
      "SVM training complete for acoustic.\n",
      "Validation MAE for SVM: 0.7642\n",
      "Evaluating SVM on acoustic...\n"
     ]
    },
    {
     "name": "stderr",
     "output_type": "stream",
     "text": [
      "                                                                                    \r"
     ]
    },
    {
     "name": "stdout",
     "output_type": "stream",
     "text": [
      "\n",
      "Results for acoustic + SVM:\n",
      "  MAE: 0.8307\n",
      "  Binary Accuracy: 0.6326\n",
      "  Binary F1: 0.7731\n",
      "  7-Class Accuracy: 0.4130\n",
      "  Training Time: 12.99s\n",
      "\n",
      "================================================================================\n",
      "Combination 4/12: ACOUSTIC + XGBOOST\n",
      "================================================================================\n",
      "Model Info: XGBOOST for acoustic modality (input_size: 74)\n",
      "Phase 1: Extracting acoustic features using CNN backbone...\n"
     ]
    },
    {
     "name": "stderr",
     "output_type": "stream",
     "text": [
      "                                                                                        \r"
     ]
    },
    {
     "name": "stdout",
     "output_type": "stream",
     "text": [
      "Extracted 16322 training samples and 1871 validation samples.\n",
      "Phase 2: Training XGBOOST with acoustic features...\n",
      "XGBoost training complete for acoustic.\n",
      "Validation MAE for XGBOOST: 0.7775\n",
      "Evaluating XGBOOST on acoustic...\n"
     ]
    },
    {
     "name": "stderr",
     "output_type": "stream",
     "text": [
      "                                                                                    \r"
     ]
    },
    {
     "name": "stdout",
     "output_type": "stream",
     "text": [
      "\n",
      "Results for acoustic + XGBOOST:\n",
      "  MAE: 0.8449\n",
      "  Binary Accuracy: 0.5980\n",
      "  Binary F1: 0.7120\n",
      "  7-Class Accuracy: 0.4085\n",
      "  Training Time: 3.31s\n",
      "\n",
      "================================================================================\n",
      "Combination 5/12: VISUAL + NN\n",
      "================================================================================\n",
      "Model Info: NN for visual modality (input_size: 35)\n",
      "Training NN on visual modality...\n"
     ]
    },
    {
     "name": "stderr",
     "output_type": "stream",
     "text": [
      "                                                                                     \r"
     ]
    },
    {
     "name": "stdout",
     "output_type": "stream",
     "text": [
      "Neural network training complete. Best validation loss: 0.7772\n",
      "Loaded best model weights from ./ckpt\\0627161741_nn_visual_model.std\n",
      "Evaluating NN on visual...\n"
     ]
    },
    {
     "name": "stderr",
     "output_type": "stream",
     "text": [
      "                                                                           \r"
     ]
    },
    {
     "name": "stdout",
     "output_type": "stream",
     "text": [
      "\n",
      "Results for visual + NN:\n",
      "  MAE: 0.8384\n",
      "  Binary Accuracy: 0.6285\n",
      "  Binary F1: 0.7719\n",
      "  7-Class Accuracy: 0.4136\n",
      "  Training Time: 176.32s\n",
      "\n",
      "================================================================================\n",
      "Combination 6/12: VISUAL + CNN\n",
      "================================================================================\n",
      "Model Info: CNN for visual modality (input_size: 35)\n",
      "Training CNN on visual modality...\n"
     ]
    },
    {
     "name": "stderr",
     "output_type": "stream",
     "text": [
      "                                                                                     \r"
     ]
    },
    {
     "name": "stdout",
     "output_type": "stream",
     "text": [
      "Neural network training complete. Best validation loss: 0.7359\n",
      "Loaded best model weights from ./ckpt\\0627162038_cnn_visual_model.std\n",
      "Evaluating CNN on visual...\n"
     ]
    },
    {
     "name": "stderr",
     "output_type": "stream",
     "text": [
      "                                                                           \r"
     ]
    },
    {
     "name": "stdout",
     "output_type": "stream",
     "text": [
      "\n",
      "Results for visual + CNN:\n",
      "  MAE: 0.8038\n",
      "  Binary Accuracy: 0.6436\n",
      "  Binary F1: 0.7484\n",
      "  7-Class Accuracy: 0.4248\n",
      "  Training Time: 127.06s\n",
      "\n",
      "================================================================================\n",
      "Combination 7/12: VISUAL + SVM\n",
      "================================================================================\n",
      "Model Info: SVM for visual modality (input_size: 35)\n",
      "Phase 1: Extracting visual features using CNN backbone...\n"
     ]
    },
    {
     "name": "stderr",
     "output_type": "stream",
     "text": [
      "                                                                                      \r"
     ]
    },
    {
     "name": "stdout",
     "output_type": "stream",
     "text": [
      "Extracted 16322 training samples and 1871 validation samples.\n",
      "Phase 2: Training SVM with visual features...\n",
      "SVM training complete for visual.\n",
      "Validation MAE for SVM: 0.7486\n",
      "Evaluating SVM on visual...\n"
     ]
    },
    {
     "name": "stderr",
     "output_type": "stream",
     "text": [
      "                                                                                  \r"
     ]
    },
    {
     "name": "stdout",
     "output_type": "stream",
     "text": [
      "\n",
      "Results for visual + SVM:\n",
      "  MAE: 0.8225\n",
      "  Binary Accuracy: 0.6181\n",
      "  Binary F1: 0.7520\n",
      "  7-Class Accuracy: 0.4134\n",
      "  Training Time: 12.66s\n",
      "\n",
      "================================================================================\n",
      "Combination 8/12: VISUAL + XGBOOST\n",
      "================================================================================\n",
      "Model Info: XGBOOST for visual modality (input_size: 35)\n",
      "Phase 1: Extracting visual features using CNN backbone...\n"
     ]
    },
    {
     "name": "stderr",
     "output_type": "stream",
     "text": [
      "                                                                                      \r"
     ]
    },
    {
     "name": "stdout",
     "output_type": "stream",
     "text": [
      "Extracted 16322 training samples and 1871 validation samples.\n",
      "Phase 2: Training XGBOOST with visual features...\n",
      "XGBoost training complete for visual.\n",
      "Validation MAE for XGBOOST: 0.7673\n",
      "Evaluating XGBOOST on visual...\n"
     ]
    },
    {
     "name": "stderr",
     "output_type": "stream",
     "text": [
      "                                                                                  \r"
     ]
    },
    {
     "name": "stdout",
     "output_type": "stream",
     "text": [
      "\n",
      "Results for visual + XGBOOST:\n",
      "  MAE: 0.8439\n",
      "  Binary Accuracy: 0.5985\n",
      "  Binary F1: 0.6942\n",
      "  7-Class Accuracy: 0.4067\n",
      "  Training Time: 3.25s\n",
      "\n",
      "================================================================================\n",
      "Combination 9/12: TEXT + NN\n",
      "================================================================================\n",
      "Model Info: NN for text modality (input_size: 300)\n",
      "Training NN on text modality...\n"
     ]
    },
    {
     "name": "stderr",
     "output_type": "stream",
     "text": [
      "                                                                                     \r"
     ]
    },
    {
     "name": "stdout",
     "output_type": "stream",
     "text": [
      "Neural network training complete. Best validation loss: 0.6142\n",
      "Loaded best model weights from ./ckpt\\0627162307_nn_text_model.std\n",
      "Evaluating NN on text...\n"
     ]
    },
    {
     "name": "stderr",
     "output_type": "stream",
     "text": [
      "                                                                          \r"
     ]
    },
    {
     "name": "stdout",
     "output_type": "stream",
     "text": [
      "\n",
      "Results for text + NN:\n",
      "  MAE: 0.6579\n",
      "  Binary Accuracy: 0.7972\n",
      "  Binary F1: 0.8377\n",
      "  7-Class Accuracy: 0.4692\n",
      "  Training Time: 159.58s\n",
      "\n",
      "================================================================================\n",
      "Combination 10/12: TEXT + CNN\n",
      "================================================================================\n",
      "Model Info: CNN for text modality (input_size: 300)\n",
      "Training CNN on text modality...\n"
     ]
    },
    {
     "name": "stderr",
     "output_type": "stream",
     "text": [
      "                                                                                     \r"
     ]
    },
    {
     "name": "stdout",
     "output_type": "stream",
     "text": [
      "Neural network training complete. Best validation loss: 0.6179\n",
      "Loaded best model weights from ./ckpt\\0627162547_cnn_text_model.std\n",
      "Evaluating CNN on text...\n"
     ]
    },
    {
     "name": "stderr",
     "output_type": "stream",
     "text": [
      "                                                                           \r"
     ]
    },
    {
     "name": "stdout",
     "output_type": "stream",
     "text": [
      "\n",
      "Results for text + CNN:\n",
      "  MAE: 0.6626\n",
      "  Binary Accuracy: 0.8030\n",
      "  Binary F1: 0.8469\n",
      "  7-Class Accuracy: 0.4623\n",
      "  Training Time: 151.10s\n",
      "\n",
      "================================================================================\n",
      "Combination 11/12: TEXT + SVM\n",
      "================================================================================\n",
      "Model Info: SVM for text modality (input_size: 300)\n",
      "Phase 1: Extracting text features using CNN backbone...\n"
     ]
    },
    {
     "name": "stderr",
     "output_type": "stream",
     "text": [
      "                                                                                    \r"
     ]
    },
    {
     "name": "stdout",
     "output_type": "stream",
     "text": [
      "Extracted 16322 training samples and 1871 validation samples.\n",
      "Phase 2: Training SVM with text features...\n",
      "SVM training complete for text.\n",
      "Validation MAE for SVM: 0.6845\n",
      "Evaluating SVM on text...\n"
     ]
    },
    {
     "name": "stderr",
     "output_type": "stream",
     "text": [
      "                                                                                \r"
     ]
    },
    {
     "name": "stdout",
     "output_type": "stream",
     "text": [
      "\n",
      "Results for text + SVM:\n",
      "  MAE: 0.7513\n",
      "  Binary Accuracy: 0.7493\n",
      "  Binary F1: 0.8070\n",
      "  7-Class Accuracy: 0.4295\n",
      "  Training Time: 13.35s\n",
      "\n",
      "================================================================================\n",
      "Combination 12/12: TEXT + XGBOOST\n",
      "================================================================================\n",
      "Model Info: XGBOOST for text modality (input_size: 300)\n",
      "Phase 1: Extracting text features using CNN backbone...\n"
     ]
    },
    {
     "name": "stderr",
     "output_type": "stream",
     "text": [
      "                                                                                    \r"
     ]
    },
    {
     "name": "stdout",
     "output_type": "stream",
     "text": [
      "Extracted 16322 training samples and 1871 validation samples.\n",
      "Phase 2: Training XGBOOST with text features...\n",
      "XGBoost training complete for text.\n",
      "Validation MAE for XGBOOST: 0.6954\n",
      "Evaluating XGBOOST on text...\n"
     ]
    },
    {
     "name": "stderr",
     "output_type": "stream",
     "text": [
      "                                                                                "
     ]
    },
    {
     "name": "stdout",
     "output_type": "stream",
     "text": [
      "\n",
      "Results for text + XGBOOST:\n",
      "  MAE: 0.7542\n",
      "  Binary Accuracy: 0.7397\n",
      "  Binary F1: 0.8022\n",
      "  7-Class Accuracy: 0.4155\n",
      "  Training Time: 3.79s\n",
      "Results saved to 'unimodal_comparison_results.csv'\n"
     ]
    },
    {
     "name": "stderr",
     "output_type": "stream",
     "text": [
      "\r"
     ]
    }
   ],
   "source": [
    "import torch\n",
    "import torch.nn as nn\n",
    "from torch.optim import Adam\n",
    "from torch.utils.data import DataLoader\n",
    "import numpy as np\n",
    "from sklearn.metrics import accuracy_score, precision_recall_fscore_support, mean_absolute_error\n",
    "import pandas as pd\n",
    "import matplotlib.pyplot as plt\n",
    "import seaborn as sns\n",
    "import os\n",
    "import time\n",
    "from tqdm import tqdm\n",
    "import warnings\n",
    "warnings.filterwarnings('ignore')\n",
    "\n",
    "# ==========================================================================================\n",
    "# CONFIGURATION\n",
    "# ==========================================================================================\n",
    "\n",
    "# Single modalities and all model types to test\n",
    "MODALITY_TYPES = ['acoustic', 'visual', 'text']\n",
    "MODEL_TYPES = ['nn', 'cnn', 'svm', 'xgboost']\n",
    "\n",
    "# General Setup\n",
    "torch.manual_seed(123)\n",
    "torch.cuda.manual_seed_all(123)\n",
    "CUDA = torch.cuda.is_available()\n",
    "DEVICE = torch.device(\"cuda\" if CUDA else \"cpu\")\n",
    "print(f\"--- Running on {DEVICE} ---\")\n",
    "print(f\"=== Unimodal Model Comparison Study ===\")\n",
    "print(f\"Testing {len(MODALITY_TYPES)} modalities × {len(MODEL_TYPES)} model types = {len(MODALITY_TYPES) * len(MODEL_TYPES)} total combinations\\n\")\n",
    "\n",
    "# Model Hyperparameters\n",
    "text_size = 300\n",
    "visual_size = 35\n",
    "acoustic_size = 74\n",
    "\n",
    "modality_sizes = {\n",
    "    'acoustic': acoustic_size,\n",
    "    'visual': visual_size, \n",
    "    'text': text_size\n",
    "}\n",
    "\n",
    "hidden_size = 128\n",
    "dropout = 0.3\n",
    "output_size = 1\n",
    "kernel_size = 3\n",
    "num_layers = 2\n",
    "\n",
    "# Training Hyperparameters\n",
    "MAX_EPOCH = 100\n",
    "patience = 8\n",
    "grad_clip_value = 1.0\n",
    "weight_decay = 0.1\n",
    "\n",
    "# Save directory\n",
    "save_dir = './ckpt'\n",
    "os.makedirs(save_dir, exist_ok=True)\n",
    "\n",
    "# Results storage\n",
    "results_df = pd.DataFrame(columns=[\n",
    "    'Modality_Type', 'Model_Type', 'MAE', 'Binary_Accuracy', \n",
    "    'Binary_F1', 'Binary_Precision', 'Binary_Recall', 'Class7_Accuracy', 'Training_Time'\n",
    "])\n",
    "\n",
    "# ==========================================================================================\n",
    "# HELPER FUNCTIONS\n",
    "# ==========================================================================================\n",
    "\n",
    "def extract_modality_data(batch, modality_type):\n",
    "    \"\"\"Extract specified modality data from batch\"\"\"\n",
    "    t, v, a, y, l = batch\n",
    "    \n",
    "    # Check data dimensions and transpose to correct format (batch_size, seq_len, feature_dim)\n",
    "    if modality_type == 'acoustic':\n",
    "        if a.dim() == 3 and a.shape[1] == y.shape[0]:  # y.shape[0] is the real batch size\n",
    "            a = a.transpose(0, 1)  # (seq_len, batch, feat) -> (batch, seq_len, feat)\n",
    "        return a, y, l\n",
    "    elif modality_type == 'visual':\n",
    "        if v.dim() == 3 and v.shape[1] == y.shape[0]:\n",
    "            v = v.transpose(0, 1)\n",
    "        return v, y, l\n",
    "    elif modality_type == 'text':\n",
    "        if t.dim() == 3 and t.shape[1] == y.shape[0]:\n",
    "            t = t.transpose(0, 1)\n",
    "        return t, y, l\n",
    "    else:\n",
    "        raise ValueError(f\"Unknown modality_type: {modality_type}\")\n",
    "\n",
    "def prepare_data_for_model(modality_data, model_type):\n",
    "    \"\"\"Prepare data format based on model type\"\"\"\n",
    "    if model_type == 'cnn':\n",
    "        # CNN expects 3D input: (batch_size, seq_len, input_size)\n",
    "        if modality_data.dim() == 2:\n",
    "            modality_data = modality_data.unsqueeze(1)  # (batch, 1, features)\n",
    "        return modality_data\n",
    "    elif model_type in ['nn', 'dnn']:\n",
    "        # DNN expects 2D input: (batch_size, input_size)\n",
    "        if modality_data.dim() == 3:\n",
    "            return modality_data.mean(dim=1)  # (batch_size, seq_len, input_size) -> (batch_size, input_size)\n",
    "        elif modality_data.dim() == 2:\n",
    "            return modality_data\n",
    "        else:\n",
    "            return modality_data.unsqueeze(0)\n",
    "    else:\n",
    "        return modality_data\n",
    "\n",
    "def train_neural_network(model_wrapper, train_loader, valid_loader, model_save_path, optim_save_path, modality_type):\n",
    "    \"\"\"Train CNN or NN model for specified modality\"\"\"\n",
    "    pytorch_model = model_wrapper.nn_model\n",
    "    pytorch_model.to(DEVICE)\n",
    "    \n",
    "    optimizer = Adam([p for p in pytorch_model.parameters() if p.requires_grad], weight_decay=weight_decay)\n",
    "    criterion = nn.L1Loss(reduction='sum')\n",
    "    lr_scheduler = torch.optim.lr_scheduler.StepLR(optimizer, step_size=1, gamma=0.1)\n",
    "    \n",
    "    best_valid_loss = float('inf')\n",
    "    curr_patience = patience\n",
    "    num_trials = 3\n",
    "    \n",
    "    print(f\"Training {model_wrapper.model_type.upper()} on {modality_type} modality...\")\n",
    "    \n",
    "    for e in range(1, MAX_EPOCH + 1):\n",
    "        # Training Phase\n",
    "        pytorch_model.train()\n",
    "        train_loss = 0.0\n",
    "        train_iter = tqdm(train_loader, desc=f\"Epoch {e}/{MAX_EPOCH} [Train]\", leave=False)\n",
    "        for batch in train_iter:\n",
    "            pytorch_model.zero_grad()\n",
    "            \n",
    "            # Extract specified modality data\n",
    "            modality_data, y, lengths = extract_modality_data(batch, modality_type)\n",
    "            modality_data = modality_data.to(DEVICE)\n",
    "            y = y.to(DEVICE)\n",
    "            \n",
    "            # Prepare data format based on model type\n",
    "            x = prepare_data_for_model(modality_data, model_wrapper.model_type)\n",
    "            \n",
    "            y_pred = pytorch_model(x)\n",
    "            \n",
    "            # Ensure prediction and label dimensions match\n",
    "            if y_pred.shape != y.shape:\n",
    "                if y_pred.dim() == 2 and y.dim() == 1:\n",
    "                    y = y.unsqueeze(1)\n",
    "                elif y_pred.dim() == 1 and y.dim() == 2:\n",
    "                    y_pred = y_pred.unsqueeze(1)\n",
    "            \n",
    "            loss = criterion(y_pred, y)\n",
    "            loss.backward()\n",
    "            torch.nn.utils.clip_grad_value_([p for p in pytorch_model.parameters() if p.requires_grad], grad_clip_value)\n",
    "            optimizer.step()\n",
    "            train_loss += loss.item()\n",
    "            train_iter.set_postfix(loss=f\"{loss.item() / y.size(0):.4f}\")\n",
    "        \n",
    "        # Validation Phase\n",
    "        pytorch_model.eval()\n",
    "        valid_loss = 0.0\n",
    "        with torch.no_grad():\n",
    "            for batch in valid_loader:\n",
    "                modality_data, y, lengths = extract_modality_data(batch, modality_type)\n",
    "                modality_data = modality_data.to(DEVICE)\n",
    "                y = y.to(DEVICE)\n",
    "                \n",
    "                x = prepare_data_for_model(modality_data, model_wrapper.model_type)\n",
    "                y_pred = pytorch_model(x)\n",
    "                \n",
    "                if y_pred.shape != y.shape:\n",
    "                    if y_pred.dim() == 2 and y.dim() == 1:\n",
    "                        y = y.unsqueeze(1)\n",
    "                    elif y_pred.dim() == 1 and y.dim() == 2:\n",
    "                        y_pred = y_pred.unsqueeze(1)\n",
    "                \n",
    "                loss = criterion(y_pred, y)\n",
    "                valid_loss += loss.item()\n",
    "        \n",
    "        train_loss_avg = train_loss / len(train_loader.dataset)\n",
    "        valid_loss_avg = valid_loss / len(valid_loader.dataset)\n",
    "        \n",
    "        # Early Stopping & Model Saving\n",
    "        if valid_loss_avg < best_valid_loss:\n",
    "            best_valid_loss = valid_loss_avg\n",
    "            torch.save(pytorch_model.state_dict(), model_save_path)\n",
    "            torch.save(optimizer.state_dict(), optim_save_path)\n",
    "            curr_patience = patience\n",
    "        else:\n",
    "            curr_patience -= 1\n",
    "        \n",
    "        if curr_patience <= 0:\n",
    "            num_trials -= 1\n",
    "            curr_patience = patience\n",
    "            if os.path.exists(model_save_path):\n",
    "                pytorch_model.load_state_dict(torch.load(model_save_path))\n",
    "                optimizer.load_state_dict(torch.load(optim_save_path))\n",
    "            lr_scheduler.step()\n",
    "        \n",
    "        if num_trials <= 0:\n",
    "            break\n",
    "    \n",
    "    print(f\"Neural network training complete. Best validation loss: {best_valid_loss:.4f}\")\n",
    "\n",
    "def train_classical_model(model_wrapper, train_loader, valid_loader, modality_type):\n",
    "    \"\"\"Train SVM or XGBoost model using CNN-extracted features\"\"\"\n",
    "    # Create CNN feature extractor\n",
    "    input_size = modality_sizes[modality_type]\n",
    "    feature_extractor = MyModel(\n",
    "        model_type='cnn',\n",
    "        input_size=input_size,\n",
    "        hidden_size=hidden_size,\n",
    "        output_size=hidden_size,  # Output feature dimension\n",
    "        kernel_size=kernel_size,\n",
    "        dropout=dropout,\n",
    "        num_layers=num_layers\n",
    "    )\n",
    "    feature_extractor.nn_model.to(DEVICE)\n",
    "    \n",
    "    def extract_features_from_loader(loader, desc=\"\"):\n",
    "        X, y = [], []\n",
    "        feature_extractor.nn_model.eval()\n",
    "        with torch.no_grad():\n",
    "            for batch in tqdm(loader, desc=desc, leave=False):\n",
    "                modality_data, label, lengths = extract_modality_data(batch, modality_type)\n",
    "                modality_data = modality_data.to(DEVICE)\n",
    "                \n",
    "                x = prepare_data_for_model(modality_data, 'cnn')\n",
    "                features = feature_extractor.extract_features(x)\n",
    "                X.append(features)\n",
    "                y.append(label.cpu().numpy())\n",
    "        return np.vstack(X), np.concatenate(y)\n",
    "    \n",
    "    print(f\"Phase 1: Extracting {modality_type} features using CNN backbone...\")\n",
    "    X_train, y_train = extract_features_from_loader(train_loader, f\"Extracting Train Features ({modality_type})\")\n",
    "    X_valid, y_valid = extract_features_from_loader(valid_loader, f\"Extracting Valid Features ({modality_type})\")\n",
    "    print(f\"Extracted {X_train.shape[0]} training samples and {X_valid.shape[0]} validation samples.\")\n",
    "    \n",
    "    print(f\"Phase 2: Training {model_wrapper.model_type.upper()} with {modality_type} features...\")\n",
    "    if model_wrapper.model_type == 'svm':\n",
    "        model_wrapper.train_svm(X_train, y_train.ravel())\n",
    "        print(f\"SVM training complete for {modality_type}.\")\n",
    "        y_pred = model_wrapper.predict_svm(X_valid)\n",
    "    elif model_wrapper.model_type == 'xgboost':\n",
    "        model_wrapper.train_xgb(X_train, y_train.ravel())\n",
    "        print(f\"XGBoost training complete for {modality_type}.\")\n",
    "        y_pred = model_wrapper.predict_xgb(X_valid)\n",
    "    \n",
    "    # Quick validation evaluation\n",
    "    mae = mean_absolute_error(y_valid, y_pred)\n",
    "    print(f\"Validation MAE for {model_wrapper.model_type.upper()}: {mae:.4f}\")\n",
    "    \n",
    "    return feature_extractor\n",
    "\n",
    "def evaluate_model(model_wrapper, test_loader, model_save_path=None, modality_type=\"\", feature_extractor=None):\n",
    "    \"\"\"Evaluate any model type and return comprehensive metrics\"\"\"\n",
    "    y_true = []\n",
    "    y_pred = []\n",
    "    \n",
    "    if model_wrapper.model_type in ['cnn', 'nn']:\n",
    "        # Evaluate neural network\n",
    "        pytorch_model = model_wrapper.nn_model\n",
    "        if model_save_path and os.path.exists(model_save_path):\n",
    "            pytorch_model.load_state_dict(torch.load(model_save_path))\n",
    "            print(f\"Loaded best model weights from {model_save_path}\")\n",
    "        \n",
    "        pytorch_model.to(DEVICE)\n",
    "        pytorch_model.eval()\n",
    "        \n",
    "        print(f\"Evaluating {model_wrapper.model_type.upper()} on {modality_type}...\")\n",
    "        with torch.no_grad():\n",
    "            test_iter = tqdm(test_loader, desc=\"Evaluating Neural Network\", leave=False)\n",
    "            for batch in test_iter:\n",
    "                modality_data, y, lengths = extract_modality_data(batch, modality_type)\n",
    "                modality_data = modality_data.to(DEVICE)\n",
    "                y = y.to(DEVICE)\n",
    "                \n",
    "                x = prepare_data_for_model(modality_data, model_wrapper.model_type)\n",
    "                predictions = pytorch_model(x)\n",
    "                \n",
    "                if predictions.shape != y.shape:\n",
    "                    if predictions.dim() == 2 and y.dim() == 1:\n",
    "                        y = y.unsqueeze(1)\n",
    "                    elif predictions.dim() == 1 and y.dim() == 2:\n",
    "                        predictions = predictions.unsqueeze(1)\n",
    "                \n",
    "                y_true.append(y.cpu().numpy())\n",
    "                y_pred.append(predictions.cpu().numpy())\n",
    "    \n",
    "    elif model_wrapper.model_type in ['svm', 'xgboost']:\n",
    "        # Evaluate classical model\n",
    "        print(f\"Evaluating {model_wrapper.model_type.upper()} on {modality_type}...\")\n",
    "        \n",
    "        def extract_features_from_test_loader(loader, desc=\"\"):\n",
    "            X, y = [], []\n",
    "            feature_extractor.nn_model.eval()\n",
    "            with torch.no_grad():\n",
    "                for batch in tqdm(loader, desc=desc, leave=False):\n",
    "                    modality_data, label, lengths = extract_modality_data(batch, modality_type)\n",
    "                    modality_data = modality_data.to(DEVICE)\n",
    "                    \n",
    "                    x = prepare_data_for_model(modality_data, 'cnn')\n",
    "                    features = feature_extractor.extract_features(x)\n",
    "                    X.append(features)\n",
    "                    y.append(label.cpu().numpy())\n",
    "            return np.vstack(X), np.concatenate(y)\n",
    "        \n",
    "        X_test, y_test = extract_features_from_test_loader(test_loader, f\"Extracting Test Features ({modality_type})\")\n",
    "        y_true = y_test\n",
    "        \n",
    "        if model_wrapper.model_type == 'svm':\n",
    "            y_pred = model_wrapper.predict_svm(X_test)\n",
    "        else:  # xgboost\n",
    "            y_pred = model_wrapper.predict_xgb(X_test)\n",
    "    \n",
    "    # Process predictions\n",
    "    if isinstance(y_true, list):\n",
    "        y_true = np.concatenate(y_true, axis=0)\n",
    "    if isinstance(y_pred, list):\n",
    "        y_pred = np.concatenate(y_pred, axis=0)\n",
    "    \n",
    "    y_true = y_true.ravel()\n",
    "    y_pred = y_pred.ravel()\n",
    "    \n",
    "    # Calculate metrics\n",
    "    mae = mean_absolute_error(y_true, y_pred)\n",
    "    \n",
    "    # Binary classification metrics\n",
    "    non_zero_mask = y_true != 0\n",
    "    if np.any(non_zero_mask):\n",
    "        y_true_bin = y_true[non_zero_mask] >= 0\n",
    "        y_pred_bin = y_pred[non_zero_mask] >= 0\n",
    "        \n",
    "        bin_acc = accuracy_score(y_true_bin, y_pred_bin)\n",
    "        precision, recall, f1, _ = precision_recall_fscore_support(y_true_bin, y_pred_bin, average='binary', zero_division=0)\n",
    "    else:\n",
    "        bin_acc = precision = recall = f1 = 0.0\n",
    "    \n",
    "    # 7-class classification\n",
    "    y_true_7class = np.clip(np.rint(y_true), -3, 3)\n",
    "    y_pred_7class = np.clip(np.rint(y_pred), -3, 3)\n",
    "    acc7 = accuracy_score(y_true_7class, y_pred_7class)\n",
    "    \n",
    "    return {\n",
    "        'MAE': mae,\n",
    "        'Binary_Accuracy': bin_acc,\n",
    "        'Binary_F1': f1,\n",
    "        'Binary_Precision': precision,\n",
    "        'Binary_Recall': recall,\n",
    "        'Class7_Accuracy': acc7\n",
    "    }\n",
    "\n",
    "# ==========================================================================================\n",
    "# MAIN TRAINING AND EVALUATION LOOP\n",
    "# ==========================================================================================\n",
    "\n",
    "print(\"=== Starting Comprehensive Unimodal Model Training and Evaluation ===\\n\")\n",
    "\n",
    "total_combinations = len(MODALITY_TYPES) * len(MODEL_TYPES)\n",
    "current_combination = 0\n",
    "\n",
    "for modality_type in MODALITY_TYPES:\n",
    "    for model_type in MODEL_TYPES:\n",
    "        current_combination += 1\n",
    "        print(f\"\\n{'='*80}\")\n",
    "        print(f\"Combination {current_combination}/{total_combinations}: {modality_type.upper()} + {model_type.upper()}\")\n",
    "        print(f\"{'='*80}\")\n",
    "        \n",
    "        # Get input size for current modality\n",
    "        input_size = modality_sizes[modality_type]\n",
    "        \n",
    "        # Initialize model\n",
    "        model_wrapper = MyModel(\n",
    "            model_type=model_type,\n",
    "            input_size=input_size,\n",
    "            hidden_size=hidden_size,\n",
    "            dropout=dropout,\n",
    "            output_size=output_size,\n",
    "            kernel_size=kernel_size,\n",
    "            num_layers=num_layers,\n",
    "            svm_params={'kernel': 'rbf', 'C': 1.0},\n",
    "            xgb_params={'n_estimators': 100, 'learning_rate': 0.1}\n",
    "        )\n",
    "        \n",
    "        print(f\"Model Info: {model_type.upper()} for {modality_type} modality (input_size: {input_size})\")\n",
    "        \n",
    "        # Define save paths for neural networks\n",
    "        date = time.strftime('%m%d%H%M%S', time.localtime())\n",
    "        model_save_path = os.path.join(save_dir, f'{date}_{model_type}_{modality_type}_model.std')\n",
    "        optim_save_path = os.path.join(save_dir, f'{date}_{model_type}_{modality_type}_optim.std')\n",
    "        \n",
    "        # Training\n",
    "        start_time = time.time()\n",
    "        feature_extractor = None\n",
    "        \n",
    "        if model_type in ['nn', 'cnn']:\n",
    "            train_neural_network(model_wrapper, train_loader, valid_loader, model_save_path, optim_save_path, modality_type)\n",
    "        else:  # svm or xgboost\n",
    "            feature_extractor = train_classical_model(model_wrapper, train_loader, valid_loader, modality_type)\n",
    "        \n",
    "        training_time = time.time() - start_time\n",
    "        \n",
    "        # Evaluation\n",
    "        metrics = evaluate_model(\n",
    "            model_wrapper, \n",
    "            test_loader, \n",
    "            model_save_path if model_type in ['nn', 'cnn'] else None,\n",
    "            modality_type,\n",
    "            feature_extractor\n",
    "        )\n",
    "        metrics['Training_Time'] = training_time\n",
    "        \n",
    "        # Store results\n",
    "        new_row = pd.DataFrame({\n",
    "            'Modality_Type': [modality_type],\n",
    "            'Model_Type': [model_type],\n",
    "            **{k: [v] for k, v in metrics.items()}\n",
    "        })\n",
    "        results_df = pd.concat([results_df, new_row], ignore_index=True)\n",
    "        \n",
    "        # Print results\n",
    "        print(f\"\\nResults for {modality_type} + {model_type.upper()}:\")\n",
    "        print(f\"  MAE: {metrics['MAE']:.4f}\")\n",
    "        print(f\"  Binary Accuracy: {metrics['Binary_Accuracy']:.4f}\")\n",
    "        print(f\"  Binary F1: {metrics['Binary_F1']:.4f}\")\n",
    "        print(f\"  7-Class Accuracy: {metrics['Class7_Accuracy']:.4f}\")\n",
    "        print(f\"  Training Time: {training_time:.2f}s\")\n",
    "\n",
    "\n",
    "# Save results to CSV\n",
    "results_df.to_csv('unimodal_comparison_results.csv', index=False)\n",
    "print(\"Results saved to 'unimodal_comparison_results.csv'\")"
   ]
  },
  {
   "cell_type": "code",
   "execution_count": 37,
   "id": "be87cd97",
   "metadata": {},
   "outputs": [
    {
     "data": {
      "image/png": "[encoded data removed]",
      "text/plain": [
       "<Figure size 1500x1200 with 12 Axes>"
      ]
     },
     "metadata": {},
     "output_type": "display_data"
    },
    {
     "data": {
      "image/png": "[encoded data removed]",
      "text/plain": [
       "<Figure size 1500x1200 with 6 Axes>"
      ]
     },
     "metadata": {},
     "output_type": "display_data"
    },
    {
     "data": {
      "image/png": "[encoded data removed]",
      "text/plain": [
       "<Figure size 1200x600 with 1 Axes>"
      ]
     },
     "metadata": {},
     "output_type": "display_data"
    },
    {
     "name": "stdout",
     "output_type": "stream",
     "text": [
      "\n",
      "============================================================\n",
      "SUMMARY STATISTICS\n",
      "============================================================\n",
      "\n",
      "Best Performance by Metric:\n",
      "MAE: text + nn (0.6579)\n",
      "Binary_Accuracy: text + cnn (0.8030)\n",
      "Binary_F1: text + cnn (0.8469)\n",
      "Binary_Precision: text + nn (0.8427)\n",
      "Binary_Recall: acoustic + nn (1.0000)\n",
      "Class7_Accuracy: text + nn (0.4692)\n",
      "\n",
      "Overall Ranking (weighted by multiple metrics):\n",
      "\n",
      "Top 5 Unimodal Combinations:\n",
      "1. text + cnn (Score: 0.926)\n",
      "2. text + nn (Score: 0.922)\n",
      "3. text + svm (Score: 0.593)\n",
      "4. text + xgboost (Score: 0.546)\n",
      "5. acoustic + cnn (Score: 0.311)\n",
      "\n",
      "All results saved to 'unimodal_comparison_results.csv'\n",
      "Visualization files created:\n",
      "- unimodal_performance_heatmaps.png\n",
      "- unimodal_performance_bars.png\n",
      "- unimodal_training_time_comparison.png\n",
      "\n",
      "Unimodal evaluation complete!\n",
      "\n",
      "💾 SAVING COMPREHENSIVE RESULTS TO CSV FILES...\n",
      "✓ unimodal_comparison_results.csv - Main results\n"
     ]
    }
   ],
   "source": [
    "# Set up plotting style\n",
    "plt.style.use('default')\n",
    "sns.set_palette(\"husl\")\n",
    "fig_size = (15, 12)\n",
    "\n",
    "# 1. Heatmap of all metrics\n",
    "fig, axes = plt.subplots(2, 3, figsize=fig_size)\n",
    "fig.suptitle('Unimodal Performance Comparison Across All Metrics', fontsize=16, fontweight='bold')\n",
    "\n",
    "metrics_to_plot = ['MAE', 'Binary_Accuracy', 'Binary_F1', 'Binary_Precision', 'Binary_Recall', 'Class7_Accuracy']\n",
    "\n",
    "for idx, metric in enumerate(metrics_to_plot):\n",
    "    ax = axes[idx // 3, idx % 3]\n",
    "    \n",
    "    # Create pivot table for heatmap\n",
    "    pivot_data = results_df.pivot(index='Model_Type', columns='Modality_Type', values=metric)\n",
    "    \n",
    "    # For MAE, lower is better, so use reverse colormap\n",
    "    cmap = 'RdYlBu' if metric == 'MAE' else 'RdYlGn'\n",
    "    \n",
    "    sns.heatmap(pivot_data, annot=True, fmt='.4f', cmap=cmap, ax=ax, \n",
    "                cbar_kws={'shrink': 0.8})\n",
    "    ax.set_title(f'{metric}', fontweight='bold')\n",
    "    ax.set_xlabel('Modality Type')\n",
    "    ax.set_ylabel('Model Type')\n",
    "\n",
    "plt.tight_layout()\n",
    "plt.savefig('unimodal_performance_heatmaps.png', dpi=300, bbox_inches='tight')\n",
    "plt.show()\n",
    "\n",
    "# 2. Bar plots for each metric\n",
    "fig, axes = plt.subplots(2, 3, figsize=fig_size)\n",
    "fig.suptitle('Detailed Unimodal Performance Comparison by Metric', fontsize=16, fontweight='bold')\n",
    "\n",
    "for idx, metric in enumerate(metrics_to_plot):\n",
    "    ax = axes[idx // 3, idx % 3]\n",
    "    \n",
    "    # Create combination labels\n",
    "    results_df['Combination'] = results_df['Modality_Type'] + ' + ' + results_df['Model_Type']\n",
    "    \n",
    "    # Sort by performance (ascending for MAE, descending for others)\n",
    "    sorted_df = results_df.sort_values(metric, ascending=(metric == 'MAE'))\n",
    "    \n",
    "    bars = ax.bar(range(len(sorted_df)), sorted_df[metric])\n",
    "    ax.set_title(f'{metric}', fontweight='bold')\n",
    "    ax.set_ylabel(metric)\n",
    "    ax.set_xticks(range(len(sorted_df)))\n",
    "    ax.set_xticklabels(sorted_df['Combination'], rotation=45, ha='right')\n",
    "    \n",
    "    # Color bars based on performance\n",
    "    if metric == 'MAE':\n",
    "        # For MAE, lower is better - color from green (best) to red (worst)\n",
    "        colors = plt.cm.RdYlGn_r(np.linspace(0.2, 0.8, len(bars)))\n",
    "    else:\n",
    "        # For other metrics, higher is better - color from red (worst) to green (best)\n",
    "        colors = plt.cm.RdYlGn(np.linspace(0.2, 0.8, len(bars)))\n",
    "    \n",
    "    for bar, color in zip(bars, colors):\n",
    "        bar.set_color(color)\n",
    "    \n",
    "    # Add value labels on bars\n",
    "    for i, bar in enumerate(bars):\n",
    "        height = bar.get_height()\n",
    "        ax.text(bar.get_x() + bar.get_width()/2., height,\n",
    "                f'{height:.3f}', ha='center', va='bottom', fontsize=8)\n",
    "\n",
    "plt.tight_layout()\n",
    "plt.savefig('unimodal_performance_bars.png', dpi=300, bbox_inches='tight')\n",
    "plt.show()\n",
    "\n",
    "# 3. Training time comparison\n",
    "fig, ax = plt.subplots(1, 1, figsize=(12, 6))\n",
    "results_df['Combination'] = results_df['Modality_Type'] + ' + ' + results_df['Model_Type']\n",
    "sorted_time_df = results_df.sort_values('Training_Time')\n",
    "\n",
    "bars = ax.bar(range(len(sorted_time_df)), sorted_time_df['Training_Time'])\n",
    "ax.set_title('Unimodal Training Time Comparison', fontsize=14, fontweight='bold')\n",
    "ax.set_ylabel('Training Time (seconds)')\n",
    "ax.set_xlabel('Modality + Model Combination')\n",
    "ax.set_xticks(range(len(sorted_time_df)))\n",
    "ax.set_xticklabels(sorted_time_df['Combination'], rotation=45, ha='right')\n",
    "\n",
    "# Color bars based on training time\n",
    "colors = plt.cm.viridis(np.linspace(0, 1, len(bars)))\n",
    "for bar, color in zip(bars, colors):\n",
    "    bar.set_color(color)\n",
    "\n",
    "# Add value labels\n",
    "for i, bar in enumerate(bars):\n",
    "    height = bar.get_height()\n",
    "    ax.text(bar.get_x() + bar.get_width()/2., height,\n",
    "            f'{height:.1f}s', ha='center', va='bottom')\n",
    "\n",
    "plt.tight_layout()\n",
    "plt.savefig('unimodal_training_time_comparison.png', dpi=300, bbox_inches='tight')\n",
    "plt.show()\n",
    "\n",
    "# 4. Summary statistics table\n",
    "print(\"\\n\" + \"=\"*60)\n",
    "print(\"SUMMARY STATISTICS\")\n",
    "print(\"=\"*60)\n",
    "\n",
    "# Best performance for each metric\n",
    "print(\"\\nBest Performance by Metric:\")\n",
    "for metric in metrics_to_plot:\n",
    "    if metric == 'MAE':\n",
    "        best_idx = results_df[metric].idxmin()\n",
    "        print(f\"{metric}: {results_df.loc[best_idx, 'Modality_Type']} + {results_df.loc[best_idx, 'Model_Type']} \"\n",
    "              f\"({results_df.loc[best_idx, metric]:.4f})\")\n",
    "    else:\n",
    "        best_idx = results_df[metric].idxmax()\n",
    "        print(f\"{metric}: {results_df.loc[best_idx, 'Modality_Type']} + {results_df.loc[best_idx, 'Model_Type']} \"\n",
    "              f\"({results_df.loc[best_idx, metric]:.4f})\")\n",
    "\n",
    "# Overall ranking (you can customize the weighting)\n",
    "print(\"\\nOverall Ranking (weighted by multiple metrics):\")\n",
    "# Normalize metrics (0-1 scale) and compute weighted score\n",
    "normalized_df = results_df.copy()\n",
    "for metric in metrics_to_plot:\n",
    "    if metric == 'MAE':\n",
    "        # For MAE, lower is better, so invert\n",
    "        normalized_df[f'{metric}_norm'] = 1 - (results_df[metric] - results_df[metric].min()) / (results_df[metric].max() - results_df[metric].min())\n",
    "    else:\n",
    "        # For others, higher is better\n",
    "        normalized_df[f'{metric}_norm'] = (results_df[metric] - results_df[metric].min()) / (results_df[metric].max() - results_df[metric].min())\n",
    "\n",
    "# Compute weighted score (you can adjust weights)\n",
    "weights = {'MAE': 0.3, 'Binary_Accuracy': 0.2, 'Binary_F1': 0.2, 'Binary_Precision': 0.1, 'Binary_Recall': 0.1, 'Class7_Accuracy': 0.1}\n",
    "normalized_df['Overall_Score'] = sum(normalized_df[f'{metric}_norm'] * weights[metric] for metric in weights.keys())\n",
    "\n",
    "# Sort by overall score\n",
    "ranked_df = normalized_df.sort_values('Overall_Score', ascending=False)\n",
    "print(\"\\nTop 5 Unimodal Combinations:\")\n",
    "for i in range(min(5, len(ranked_df))):\n",
    "    row = ranked_df.iloc[i]\n",
    "    print(f\"{i+1}. {row['Modality_Type']} + {row['Model_Type']} (Score: {row['Overall_Score']:.3f})\")\n",
    "\n",
    "print(f\"\\nAll results saved to 'unimodal_comparison_results.csv'\")\n",
    "print(\"Visualization files created:\")\n",
    "print(\"- unimodal_performance_heatmaps.png\")\n",
    "print(\"- unimodal_performance_bars.png\") \n",
    "print(\"- unimodal_training_time_comparison.png\")\n",
    "print(\"\\nUnimodal evaluation complete!\")\n",
    "\n",
    "# ==========================================================================================\n",
    "# SAVE COMPREHENSIVE RESULTS TO CSV FILES\n",
    "# ==========================================================================================\n",
    "\n",
    "print(f\"\\n💾 SAVING COMPREHENSIVE RESULTS TO CSV FILES...\")\n",
    "\n",
    "# 1. Main results (already saved above)\n",
    "print(\"✓ unimodal_comparison_results.csv - Main results\")"
   ]
  },
  {
   "cell_type": "code",
   "execution_count": 38,
   "id": "9cbd7bbb",
   "metadata": {},
   "outputs": [
    {
     "data": {
      "text/html": [
       "<div>\n",
       "<style scoped>\n",
       "    .dataframe tbody tr th:only-of-type {\n",
       "        vertical-align: middle;\n",
       "    }\n",
       "\n",
       "    .dataframe tbody tr th {\n",
       "        vertical-align: top;\n",
       "    }\n",
       "\n",
       "    .dataframe thead th {\n",
       "        text-align: right;\n",
       "    }\n",
       "</style>\n",
       "<table border=\"1\" class=\"dataframe\">\n",
       "  <thead>\n",
       "    <tr style=\"text-align: right;\">\n",
       "      <th></th>\n",
       "      <th>Modality_Type</th>\n",
       "      <th>Model_Type</th>\n",
       "      <th>MAE</th>\n",
       "      <th>Binary_Accuracy</th>\n",
       "      <th>Binary_F1</th>\n",
       "      <th>Binary_Precision</th>\n",
       "      <th>Binary_Recall</th>\n",
       "      <th>Class7_Accuracy</th>\n",
       "      <th>Training_Time</th>\n",
       "      <th>Combination</th>\n",
       "    </tr>\n",
       "  </thead>\n",
       "  <tbody>\n",
       "    <tr>\n",
       "      <th>0</th>\n",
       "      <td>acoustic</td>\n",
       "      <td>nn</td>\n",
       "      <td>0.838414</td>\n",
       "      <td>0.628509</td>\n",
       "      <td>0.771882</td>\n",
       "      <td>0.628509</td>\n",
       "      <td>1.000000</td>\n",
       "      <td>0.413608</td>\n",
       "      <td>138.123683</td>\n",
       "      <td>acoustic + nn</td>\n",
       "    </tr>\n",
       "    <tr>\n",
       "      <th>1</th>\n",
       "      <td>acoustic</td>\n",
       "      <td>cnn</td>\n",
       "      <td>0.818412</td>\n",
       "      <td>0.648597</td>\n",
       "      <td>0.776240</td>\n",
       "      <td>0.647093</td>\n",
       "      <td>0.969790</td>\n",
       "      <td>0.415325</td>\n",
       "      <td>96.021747</td>\n",
       "      <td>acoustic + cnn</td>\n",
       "    </tr>\n",
       "    <tr>\n",
       "      <th>2</th>\n",
       "      <td>acoustic</td>\n",
       "      <td>svm</td>\n",
       "      <td>0.830732</td>\n",
       "      <td>0.632636</td>\n",
       "      <td>0.773075</td>\n",
       "      <td>0.631842</td>\n",
       "      <td>0.995622</td>\n",
       "      <td>0.412964</td>\n",
       "      <td>12.985575</td>\n",
       "      <td>acoustic + svm</td>\n",
       "    </tr>\n",
       "    <tr>\n",
       "      <th>3</th>\n",
       "      <td>acoustic</td>\n",
       "      <td>xgboost</td>\n",
       "      <td>0.844872</td>\n",
       "      <td>0.597964</td>\n",
       "      <td>0.712005</td>\n",
       "      <td>0.647544</td>\n",
       "      <td>0.790718</td>\n",
       "      <td>0.408457</td>\n",
       "      <td>3.309297</td>\n",
       "      <td>acoustic + xgboost</td>\n",
       "    </tr>\n",
       "    <tr>\n",
       "      <th>4</th>\n",
       "      <td>visual</td>\n",
       "      <td>nn</td>\n",
       "      <td>0.838413</td>\n",
       "      <td>0.628509</td>\n",
       "      <td>0.771882</td>\n",
       "      <td>0.628509</td>\n",
       "      <td>1.000000</td>\n",
       "      <td>0.413608</td>\n",
       "      <td>176.315973</td>\n",
       "      <td>visual + nn</td>\n",
       "    </tr>\n",
       "    <tr>\n",
       "      <th>5</th>\n",
       "      <td>visual</td>\n",
       "      <td>cnn</td>\n",
       "      <td>0.803771</td>\n",
       "      <td>0.643643</td>\n",
       "      <td>0.748397</td>\n",
       "      <td>0.672721</td>\n",
       "      <td>0.843257</td>\n",
       "      <td>0.424769</td>\n",
       "      <td>127.058269</td>\n",
       "      <td>visual + cnn</td>\n",
       "    </tr>\n",
       "    <tr>\n",
       "      <th>6</th>\n",
       "      <td>visual</td>\n",
       "      <td>svm</td>\n",
       "      <td>0.822533</td>\n",
       "      <td>0.618052</td>\n",
       "      <td>0.751966</td>\n",
       "      <td>0.635266</td>\n",
       "      <td>0.921191</td>\n",
       "      <td>0.413393</td>\n",
       "      <td>12.655938</td>\n",
       "      <td>visual + svm</td>\n",
       "    </tr>\n",
       "    <tr>\n",
       "      <th>7</th>\n",
       "      <td>visual</td>\n",
       "      <td>xgboost</td>\n",
       "      <td>0.843870</td>\n",
       "      <td>0.598514</td>\n",
       "      <td>0.694194</td>\n",
       "      <td>0.665862</td>\n",
       "      <td>0.725044</td>\n",
       "      <td>0.406740</td>\n",
       "      <td>3.248247</td>\n",
       "      <td>visual + xgboost</td>\n",
       "    </tr>\n",
       "    <tr>\n",
       "      <th>8</th>\n",
       "      <td>text</td>\n",
       "      <td>nn</td>\n",
       "      <td>0.657926</td>\n",
       "      <td>0.797193</td>\n",
       "      <td>0.837701</td>\n",
       "      <td>0.842712</td>\n",
       "      <td>0.832750</td>\n",
       "      <td>0.469199</td>\n",
       "      <td>159.577783</td>\n",
       "      <td>text + nn</td>\n",
       "    </tr>\n",
       "    <tr>\n",
       "      <th>9</th>\n",
       "      <td>text</td>\n",
       "      <td>cnn</td>\n",
       "      <td>0.662598</td>\n",
       "      <td>0.802972</td>\n",
       "      <td>0.846878</td>\n",
       "      <td>0.827759</td>\n",
       "      <td>0.866900</td>\n",
       "      <td>0.462331</td>\n",
       "      <td>151.097275</td>\n",
       "      <td>text + cnn</td>\n",
       "    </tr>\n",
       "    <tr>\n",
       "      <th>10</th>\n",
       "      <td>text</td>\n",
       "      <td>svm</td>\n",
       "      <td>0.751294</td>\n",
       "      <td>0.749312</td>\n",
       "      <td>0.807032</td>\n",
       "      <td>0.781699</td>\n",
       "      <td>0.834063</td>\n",
       "      <td>0.429491</td>\n",
       "      <td>13.352785</td>\n",
       "      <td>text + svm</td>\n",
       "    </tr>\n",
       "    <tr>\n",
       "      <th>11</th>\n",
       "      <td>text</td>\n",
       "      <td>xgboost</td>\n",
       "      <td>0.754166</td>\n",
       "      <td>0.739681</td>\n",
       "      <td>0.802175</td>\n",
       "      <td>0.767814</td>\n",
       "      <td>0.839755</td>\n",
       "      <td>0.415540</td>\n",
       "      <td>3.785068</td>\n",
       "      <td>text + xgboost</td>\n",
       "    </tr>\n",
       "  </tbody>\n",
       "</table>\n",
       "</div>"
      ],
      "text/plain": [
       "   Modality_Type Model_Type       MAE  Binary_Accuracy  Binary_F1  \\\n",
       "0       acoustic         nn  0.838414         0.628509   0.771882   \n",
       "1       acoustic        cnn  0.818412         0.648597   0.776240   \n",
       "2       acoustic        svm  0.830732         0.632636   0.773075   \n",
       "3       acoustic    xgboost  0.844872         0.597964   0.712005   \n",
       "4         visual         nn  0.838413         0.628509   0.771882   \n",
       "5         visual        cnn  0.803771         0.643643   0.748397   \n",
       "6         visual        svm  0.822533         0.618052   0.751966   \n",
       "7         visual    xgboost  0.843870         0.598514   0.694194   \n",
       "8           text         nn  0.657926         0.797193   0.837701   \n",
       "9           text        cnn  0.662598         0.802972   0.846878   \n",
       "10          text        svm  0.751294         0.749312   0.807032   \n",
       "11          text    xgboost  0.754166         0.739681   0.802175   \n",
       "\n",
       "    Binary_Precision  Binary_Recall  Class7_Accuracy  Training_Time  \\\n",
       "0           0.628509       1.000000         0.413608     138.123683   \n",
       "1           0.647093       0.969790         0.415325      96.021747   \n",
       "2           0.631842       0.995622         0.412964      12.985575   \n",
       "3           0.647544       0.790718         0.408457       3.309297   \n",
       "4           0.628509       1.000000         0.413608     176.315973   \n",
       "5           0.672721       0.843257         0.424769     127.058269   \n",
       "6           0.635266       0.921191         0.413393      12.655938   \n",
       "7           0.665862       0.725044         0.406740       3.248247   \n",
       "8           0.842712       0.832750         0.469199     159.577783   \n",
       "9           0.827759       0.866900         0.462331     151.097275   \n",
       "10          0.781699       0.834063         0.429491      13.352785   \n",
       "11          0.767814       0.839755         0.415540       3.785068   \n",
       "\n",
       "           Combination  \n",
       "0        acoustic + nn  \n",
       "1       acoustic + cnn  \n",
       "2       acoustic + svm  \n",
       "3   acoustic + xgboost  \n",
       "4          visual + nn  \n",
       "5         visual + cnn  \n",
       "6         visual + svm  \n",
       "7     visual + xgboost  \n",
       "8            text + nn  \n",
       "9           text + cnn  \n",
       "10          text + svm  \n",
       "11      text + xgboost  "
      ]
     },
     "execution_count": 38,
     "metadata": {},
     "output_type": "execute_result"
    }
   ],
   "source": [
    "results_df\n"
   ]
  },
  {
   "cell_type": "code",
   "execution_count": null,
   "id": "62240a95",
   "metadata": {},
   "outputs": [],
   "source": []
  }
 ],
 "metadata": {
  "kernelspec": {
   "display_name": "Python 3",
   "language": "python",
   "name": "python3"
  },
  "language_info": {
   "codemirror_mode": {
    "name": "ipython",
    "version": 3
   },
   "file_extension": ".py",
   "mimetype": "text/x-python",
   "name": "python",
   "nbconvert_exporter": "python",
   "pygments_lexer": "ipython3",
   "version": "3.13.1"
  }
 },
 "nbformat": 4,
 "nbformat_minor": 5
}
